{
 "cells": [
  {
   "cell_type": "markdown",
   "id": "7d145136-97ce-436c-a976-973c3d9da7fb",
   "metadata": {},
   "source": [
    "## Loading Data"
   ]
  },
  {
   "cell_type": "code",
   "execution_count": 29,
   "id": "f6691558-92e7-413d-aefb-2e8be084352e",
   "metadata": {},
   "outputs": [],
   "source": [
    "import pandas as pd\n",
    "\n",
    "# Load data\n",
    "df = pd.read_csv(r\"C:\\Users\\devil\\OneDrive\\Desktop\\project-1\\ecom_cust_seg.csv\")"
   ]
  },
  {
   "cell_type": "code",
   "execution_count": 30,
   "id": "7526765a-2c34-4930-90b2-65ecf6c6767f",
   "metadata": {},
   "outputs": [
    {
     "data": {
      "text/html": [
       "<div>\n",
       "<style scoped>\n",
       "    .dataframe tbody tr th:only-of-type {\n",
       "        vertical-align: middle;\n",
       "    }\n",
       "\n",
       "    .dataframe tbody tr th {\n",
       "        vertical-align: top;\n",
       "    }\n",
       "\n",
       "    .dataframe thead th {\n",
       "        text-align: right;\n",
       "    }\n",
       "</style>\n",
       "<table border=\"1\" class=\"dataframe\">\n",
       "  <thead>\n",
       "    <tr style=\"text-align: right;\">\n",
       "      <th></th>\n",
       "      <th>Cust_ID</th>\n",
       "      <th>Gender</th>\n",
       "      <th>Orders</th>\n",
       "      <th>Jordan</th>\n",
       "      <th>Gatorade</th>\n",
       "      <th>Samsung</th>\n",
       "      <th>Asus</th>\n",
       "      <th>Udis</th>\n",
       "      <th>Mondelez International</th>\n",
       "      <th>Wrangler</th>\n",
       "      <th>...</th>\n",
       "      <th>LG</th>\n",
       "      <th>Dior</th>\n",
       "      <th>Scabal</th>\n",
       "      <th>Tommy Hilfiger</th>\n",
       "      <th>Hollister</th>\n",
       "      <th>Forever 21</th>\n",
       "      <th>Colavita</th>\n",
       "      <th>Microsoft</th>\n",
       "      <th>Jiffy mix</th>\n",
       "      <th>Kraft</th>\n",
       "    </tr>\n",
       "  </thead>\n",
       "  <tbody>\n",
       "    <tr>\n",
       "      <th>0</th>\n",
       "      <td>1</td>\n",
       "      <td>M</td>\n",
       "      <td>7</td>\n",
       "      <td>0</td>\n",
       "      <td>0</td>\n",
       "      <td>0</td>\n",
       "      <td>0</td>\n",
       "      <td>0</td>\n",
       "      <td>0</td>\n",
       "      <td>0</td>\n",
       "      <td>...</td>\n",
       "      <td>0</td>\n",
       "      <td>0</td>\n",
       "      <td>0</td>\n",
       "      <td>0</td>\n",
       "      <td>0</td>\n",
       "      <td>0</td>\n",
       "      <td>0</td>\n",
       "      <td>0</td>\n",
       "      <td>0</td>\n",
       "      <td>0</td>\n",
       "    </tr>\n",
       "    <tr>\n",
       "      <th>1</th>\n",
       "      <td>2</td>\n",
       "      <td>F</td>\n",
       "      <td>0</td>\n",
       "      <td>0</td>\n",
       "      <td>1</td>\n",
       "      <td>0</td>\n",
       "      <td>0</td>\n",
       "      <td>0</td>\n",
       "      <td>0</td>\n",
       "      <td>0</td>\n",
       "      <td>...</td>\n",
       "      <td>0</td>\n",
       "      <td>1</td>\n",
       "      <td>0</td>\n",
       "      <td>0</td>\n",
       "      <td>0</td>\n",
       "      <td>0</td>\n",
       "      <td>0</td>\n",
       "      <td>0</td>\n",
       "      <td>0</td>\n",
       "      <td>0</td>\n",
       "    </tr>\n",
       "    <tr>\n",
       "      <th>2</th>\n",
       "      <td>3</td>\n",
       "      <td>M</td>\n",
       "      <td>7</td>\n",
       "      <td>0</td>\n",
       "      <td>1</td>\n",
       "      <td>0</td>\n",
       "      <td>0</td>\n",
       "      <td>0</td>\n",
       "      <td>0</td>\n",
       "      <td>0</td>\n",
       "      <td>...</td>\n",
       "      <td>0</td>\n",
       "      <td>0</td>\n",
       "      <td>0</td>\n",
       "      <td>0</td>\n",
       "      <td>0</td>\n",
       "      <td>0</td>\n",
       "      <td>0</td>\n",
       "      <td>1</td>\n",
       "      <td>0</td>\n",
       "      <td>0</td>\n",
       "    </tr>\n",
       "    <tr>\n",
       "      <th>3</th>\n",
       "      <td>4</td>\n",
       "      <td>F</td>\n",
       "      <td>0</td>\n",
       "      <td>0</td>\n",
       "      <td>0</td>\n",
       "      <td>0</td>\n",
       "      <td>0</td>\n",
       "      <td>0</td>\n",
       "      <td>0</td>\n",
       "      <td>0</td>\n",
       "      <td>...</td>\n",
       "      <td>0</td>\n",
       "      <td>0</td>\n",
       "      <td>0</td>\n",
       "      <td>0</td>\n",
       "      <td>0</td>\n",
       "      <td>0</td>\n",
       "      <td>0</td>\n",
       "      <td>0</td>\n",
       "      <td>0</td>\n",
       "      <td>0</td>\n",
       "    </tr>\n",
       "    <tr>\n",
       "      <th>4</th>\n",
       "      <td>5</td>\n",
       "      <td>NaN</td>\n",
       "      <td>10</td>\n",
       "      <td>0</td>\n",
       "      <td>0</td>\n",
       "      <td>0</td>\n",
       "      <td>0</td>\n",
       "      <td>0</td>\n",
       "      <td>0</td>\n",
       "      <td>0</td>\n",
       "      <td>...</td>\n",
       "      <td>0</td>\n",
       "      <td>0</td>\n",
       "      <td>2</td>\n",
       "      <td>0</td>\n",
       "      <td>0</td>\n",
       "      <td>0</td>\n",
       "      <td>0</td>\n",
       "      <td>0</td>\n",
       "      <td>1</td>\n",
       "      <td>1</td>\n",
       "    </tr>\n",
       "  </tbody>\n",
       "</table>\n",
       "<p>5 rows × 38 columns</p>\n",
       "</div>"
      ],
      "text/plain": [
       "   Cust_ID Gender  Orders  Jordan  Gatorade  Samsung  Asus  Udis  \\\n",
       "0        1      M       7       0         0        0     0     0   \n",
       "1        2      F       0       0         1        0     0     0   \n",
       "2        3      M       7       0         1        0     0     0   \n",
       "3        4      F       0       0         0        0     0     0   \n",
       "4        5    NaN      10       0         0        0     0     0   \n",
       "\n",
       "   Mondelez International  Wrangler  ...  LG  Dior  Scabal  Tommy Hilfiger  \\\n",
       "0                       0         0  ...   0     0       0               0   \n",
       "1                       0         0  ...   0     1       0               0   \n",
       "2                       0         0  ...   0     0       0               0   \n",
       "3                       0         0  ...   0     0       0               0   \n",
       "4                       0         0  ...   0     0       2               0   \n",
       "\n",
       "   Hollister  Forever 21  Colavita  Microsoft  Jiffy mix  Kraft  \n",
       "0          0           0         0          0          0      0  \n",
       "1          0           0         0          0          0      0  \n",
       "2          0           0         0          1          0      0  \n",
       "3          0           0         0          0          0      0  \n",
       "4          0           0         0          0          1      1  \n",
       "\n",
       "[5 rows x 38 columns]"
      ]
     },
     "execution_count": 30,
     "metadata": {},
     "output_type": "execute_result"
    }
   ],
   "source": [
    "df.head()"
   ]
  },
  {
   "cell_type": "markdown",
   "id": "f95e3bbf-95ab-4f22-b26f-867d4a86968c",
   "metadata": {},
   "source": [
    "# Data Cleaning & Preprocessing"
   ]
  },
  {
   "cell_type": "markdown",
   "id": "4fc62c91-b3f0-4294-8ff3-e8ea9c32e6d5",
   "metadata": {},
   "source": [
    "## Handle Missing Values"
   ]
  },
  {
   "cell_type": "code",
   "execution_count": 31,
   "id": "c8a2cc42-e881-4a15-8a09-41d1033fde09",
   "metadata": {},
   "outputs": [
    {
     "name": "stdout",
     "output_type": "stream",
     "text": [
      "Cust_ID                      0\n",
      "Gender                    2724\n",
      "Orders                       0\n",
      "Jordan                       0\n",
      "Gatorade                     0\n",
      "Samsung                      0\n",
      "Asus                         0\n",
      "Udis                         0\n",
      "Mondelez International       0\n",
      "Wrangler                     0\n",
      "Vans                         0\n",
      "Fila                         0\n",
      "Brooks                       0\n",
      "H&M                          0\n",
      "Dairy Queen                  0\n",
      "Fendi                        0\n",
      "Hewlett Packard              0\n",
      "Pladis                       0\n",
      "Asics                        0\n",
      "Siemens                      0\n",
      "J.M. Smucker                 0\n",
      "Pop Chips                    0\n",
      "Juniper                      0\n",
      "Huawei                       0\n",
      "Compaq                       0\n",
      "IBM                          0\n",
      "Burberry                     0\n",
      "Mi                           0\n",
      "LG                           0\n",
      "Dior                         0\n",
      "Scabal                       0\n",
      "Tommy Hilfiger               0\n",
      "Hollister                    0\n",
      "Forever 21                   0\n",
      "Colavita                     0\n",
      "Microsoft                    0\n",
      "Jiffy mix                    0\n",
      "Kraft                        0\n",
      "dtype: int64\n"
     ]
    }
   ],
   "source": [
    "print(df.isnull().sum())  # Count missing values in each column\n"
   ]
  },
  {
   "cell_type": "markdown",
   "id": "b87e3a45-4b8a-4aef-8fa0-c6846dc0fdff",
   "metadata": {},
   "source": [
    "## Visualizing Missing Values"
   ]
  },
  {
   "cell_type": "code",
   "execution_count": 32,
   "id": "a159126b-010b-4d2e-b49a-e8413872c56b",
   "metadata": {},
   "outputs": [
    {
     "data": {
      "image/png": "[encoded data removed]",
      "text/plain": [
       "<Figure size 1000x500 with 1 Axes>"
      ]
     },
     "metadata": {},
     "output_type": "display_data"
    }
   ],
   "source": [
    "import seaborn as sns\n",
    "import matplotlib.pyplot as plt\n",
    "\n",
    "plt.figure(figsize=(10,5))\n",
    "sns.heatmap(df.isnull(), cbar=False, cmap=\"viridis\")\n",
    "plt.title(\"Missing Values Heatmap\")\n",
    "plt.show()\n"
   ]
  },
  {
   "cell_type": "code",
   "execution_count": 33,
   "id": "7a18ec09-6f10-4f6c-8f89-a6fda8149949",
   "metadata": {},
   "outputs": [
    {
     "name": "stdout",
     "output_type": "stream",
     "text": [
      "Cust_ID                      0\n",
      "Gender                    2724\n",
      "Orders                       0\n",
      "Jordan                       0\n",
      "Gatorade                     0\n",
      "Samsung                      0\n",
      "Asus                         0\n",
      "Udis                         0\n",
      "Mondelez International       0\n",
      "Wrangler                     0\n",
      "Vans                         0\n",
      "Fila                         0\n",
      "Brooks                       0\n",
      "H&M                          0\n",
      "Dairy Queen                  0\n",
      "Fendi                        0\n",
      "Hewlett Packard              0\n",
      "Pladis                       0\n",
      "Asics                        0\n",
      "Siemens                      0\n",
      "J.M. Smucker                 0\n",
      "Pop Chips                    0\n",
      "Juniper                      0\n",
      "Huawei                       0\n",
      "Compaq                       0\n",
      "IBM                          0\n",
      "Burberry                     0\n",
      "Mi                           0\n",
      "LG                           0\n",
      "Dior                         0\n",
      "Scabal                       0\n",
      "Tommy Hilfiger               0\n",
      "Hollister                    0\n",
      "Forever 21                   0\n",
      "Colavita                     0\n",
      "Microsoft                    0\n",
      "Jiffy mix                    0\n",
      "Kraft                        0\n",
      "dtype: int64\n"
     ]
    }
   ],
   "source": [
    "# Recheck missing values after cleaning\n",
    "print(df.isnull().sum())\n",
    "\n",
    "# Fill missing values\n",
    "for col in df.columns:\n",
    "    if df[col].dtype == 'object':  # Categorical data\n",
    "        df[col] = df[col].fillna(df[col].mode()[0])  # Replace with mode (most common value)\n",
    "    else:  # Numerical data\n",
    "        df[col] = df[col].fillna(df[col].median())  # Replace with median (less affected by outliers)\n"
   ]
  },
  {
   "cell_type": "markdown",
   "id": "3aa2ae7a-2781-401e-8ee8-723667fb0333",
   "metadata": {},
   "source": [
    "\n",
    "\n",
    "## Remove Duplicates"
   ]
  },
  {
   "cell_type": "code",
   "execution_count": 34,
   "id": "d9369762-b172-4487-b9ac-2a890978d6cb",
   "metadata": {},
   "outputs": [
    {
     "name": "stdout",
     "output_type": "stream",
     "text": [
      "Number of duplicate rows: 0\n"
     ]
    }
   ],
   "source": [
    "# Check for duplicates\n",
    "print(f\"Number of duplicate rows: {df.duplicated().sum()}\")\n",
    "\n",
    "# Drop duplicates\n",
    "df = df.drop_duplicates()\n"
   ]
  },
  {
   "cell_type": "markdown",
   "id": "8b0381d5-65fb-4065-a512-dbf421faa6b1",
   "metadata": {},
   "source": [
    "# Check Data Types"
   ]
  },
  {
   "cell_type": "code",
   "execution_count": 35,
   "id": "4d04b547-00e9-43b0-9060-5fef992e1407",
   "metadata": {},
   "outputs": [
    {
     "name": "stdout",
     "output_type": "stream",
     "text": [
      "<class 'pandas.core.frame.DataFrame'>\n",
      "RangeIndex: 30000 entries, 0 to 29999\n",
      "Data columns (total 38 columns):\n",
      " #   Column                  Non-Null Count  Dtype \n",
      "---  ------                  --------------  ----- \n",
      " 0   Cust_ID                 30000 non-null  int64 \n",
      " 1   Gender                  30000 non-null  object\n",
      " 2   Orders                  30000 non-null  int64 \n",
      " 3   Jordan                  30000 non-null  int64 \n",
      " 4   Gatorade                30000 non-null  int64 \n",
      " 5   Samsung                 30000 non-null  int64 \n",
      " 6   Asus                    30000 non-null  int64 \n",
      " 7   Udis                    30000 non-null  int64 \n",
      " 8   Mondelez International  30000 non-null  int64 \n",
      " 9   Wrangler                30000 non-null  int64 \n",
      " 10  Vans                    30000 non-null  int64 \n",
      " 11  Fila                    30000 non-null  int64 \n",
      " 12  Brooks                  30000 non-null  int64 \n",
      " 13  H&M                     30000 non-null  int64 \n",
      " 14  Dairy Queen             30000 non-null  int64 \n",
      " 15  Fendi                   30000 non-null  int64 \n",
      " 16  Hewlett Packard         30000 non-null  int64 \n",
      " 17  Pladis                  30000 non-null  int64 \n",
      " 18  Asics                   30000 non-null  int64 \n",
      " 19  Siemens                 30000 non-null  int64 \n",
      " 20  J.M. Smucker            30000 non-null  int64 \n",
      " 21  Pop Chips               30000 non-null  int64 \n",
      " 22  Juniper                 30000 non-null  int64 \n",
      " 23  Huawei                  30000 non-null  int64 \n",
      " 24  Compaq                  30000 non-null  int64 \n",
      " 25  IBM                     30000 non-null  int64 \n",
      " 26  Burberry                30000 non-null  int64 \n",
      " 27  Mi                      30000 non-null  int64 \n",
      " 28  LG                      30000 non-null  int64 \n",
      " 29  Dior                    30000 non-null  int64 \n",
      " 30  Scabal                  30000 non-null  int64 \n",
      " 31  Tommy Hilfiger          30000 non-null  int64 \n",
      " 32  Hollister               30000 non-null  int64 \n",
      " 33  Forever 21              30000 non-null  int64 \n",
      " 34  Colavita                30000 non-null  int64 \n",
      " 35  Microsoft               30000 non-null  int64 \n",
      " 36  Jiffy mix               30000 non-null  int64 \n",
      " 37  Kraft                   30000 non-null  int64 \n",
      "dtypes: int64(37), object(1)\n",
      "memory usage: 8.7+ MB\n",
      "None\n",
      "            Cust_ID        Orders        Jordan      Gatorade       Samsung  \\\n",
      "count  30000.000000  30000.000000  30000.000000  30000.000000  30000.000000   \n",
      "mean   15000.500000      4.169800      0.267433      0.252333      0.222933   \n",
      "std     8660.398374      3.590311      0.804778      0.705368      0.917494   \n",
      "min        1.000000      0.000000      0.000000      0.000000      0.000000   \n",
      "25%     7500.750000      1.000000      0.000000      0.000000      0.000000   \n",
      "50%    15000.500000      4.000000      0.000000      0.000000      0.000000   \n",
      "75%    22500.250000      7.000000      0.000000      0.000000      0.000000   \n",
      "max    30000.000000     12.000000     24.000000     15.000000     27.000000   \n",
      "\n",
      "               Asus          Udis  Mondelez International      Wrangler  \\\n",
      "count  30000.000000  30000.000000            30000.000000  30000.000000   \n",
      "mean       0.161333      0.143533                0.139767      0.106933   \n",
      "std        0.740038      0.641258                0.525840      0.515921   \n",
      "min        0.000000      0.000000                0.000000      0.000000   \n",
      "25%        0.000000      0.000000                0.000000      0.000000   \n",
      "50%        0.000000      0.000000                0.000000      0.000000   \n",
      "75%        0.000000      0.000000                0.000000      0.000000   \n",
      "max       17.000000     14.000000               31.000000      9.000000   \n",
      "\n",
      "               Vans  ...            LG          Dior        Scabal  \\\n",
      "count  30000.000000  ...  30000.000000  30000.000000  30000.000000   \n",
      "mean       0.111433  ...      0.102533      0.271133      0.370067   \n",
      "std        0.547990  ...      0.486376      0.714682      0.758465   \n",
      "min        0.000000  ...      0.000000      0.000000      0.000000   \n",
      "25%        0.000000  ...      0.000000      0.000000      0.000000   \n",
      "50%        0.000000  ...      0.000000      0.000000      0.000000   \n",
      "75%        0.000000  ...      0.000000      0.000000      1.000000   \n",
      "max       16.000000  ...     19.000000     12.000000     11.000000   \n",
      "\n",
      "       Tommy Hilfiger     Hollister    Forever 21      Colavita     Microsoft  \\\n",
      "count    30000.000000  30000.000000  30000.000000  30000.000000  30000.000000   \n",
      "mean         0.158967      0.077667      0.057333      0.192200      0.116367   \n",
      "std          0.510527      0.383370      0.300082      0.641306      0.446578   \n",
      "min          0.000000      0.000000      0.000000      0.000000      0.000000   \n",
      "25%          0.000000      0.000000      0.000000      0.000000      0.000000   \n",
      "50%          0.000000      0.000000      0.000000      0.000000      0.000000   \n",
      "75%          0.000000      0.000000      0.000000      0.000000      0.000000   \n",
      "max          8.000000      9.000000      8.000000     22.000000     14.000000   \n",
      "\n",
      "          Jiffy mix         Kraft  \n",
      "count  30000.000000  30000.000000  \n",
      "mean       0.088033      0.070900  \n",
      "std        0.399277      0.387915  \n",
      "min        0.000000      0.000000  \n",
      "25%        0.000000      0.000000  \n",
      "50%        0.000000      0.000000  \n",
      "75%        0.000000      0.000000  \n",
      "max        8.000000     16.000000  \n",
      "\n",
      "[8 rows x 37 columns]\n"
     ]
    }
   ],
   "source": [
    "# Check data types\n",
    "print(df.info())\n",
    "\n",
    "# Summary statistics\n",
    "print(df.describe())\n"
   ]
  },
  {
   "cell_type": "markdown",
   "id": "03d73844-8f97-4832-b32b-e65ec8909f3c",
   "metadata": {},
   "source": [
    "## Handle Outliers"
   ]
  },
  {
   "cell_type": "code",
   "execution_count": 36,
   "id": "77f19a3b-ba9e-4063-9762-88bff14ad2d6",
   "metadata": {},
   "outputs": [],
   "source": [
    "import numpy as np\n",
    "\n",
    "# Define a function to remove outliers using IQR\n",
    "def remove_outliers(df, columns):\n",
    "    for col in columns:\n",
    "        Q1 = df[col].quantile(0.25)\n",
    "        Q3 = df[col].quantile(0.75)\n",
    "        IQR = Q3 - Q1\n",
    "        lower_bound = Q1 - 1.5 * IQR\n",
    "        upper_bound = Q3 + 1.5 * IQR\n",
    "        df = df[(df[col] >= lower_bound) & (df[col] <= upper_bound)]\n",
    "    return df\n",
    "\n",
    "# Apply outlier removal on numerical columns\n",
    "num_cols = df.select_dtypes(include=['int64', 'float64']).columns\n",
    "df = remove_outliers(df, num_cols)\n"
   ]
  },
  {
   "cell_type": "markdown",
   "id": "2e3313c0-d3b0-4db0-a6b2-e3e80b4df4c2",
   "metadata": {},
   "source": [
    "## Standardize Data Formatting"
   ]
  },
  {
   "cell_type": "code",
   "execution_count": 37,
   "id": "f6dc1786-df81-4707-a0d3-5066a84d1414",
   "metadata": {},
   "outputs": [],
   "source": [
    "# Convert column names to lowercase for consistency\n",
    "df.columns = df.columns.str.lower().str.replace(\" \", \"_\")\n"
   ]
  },
  {
   "cell_type": "markdown",
   "id": "8c8ff296-bc1a-4b94-8c09-118a9e3e8657",
   "metadata": {},
   "source": [
    "## Categorical Variables"
   ]
  },
  {
   "cell_type": "code",
   "execution_count": 38,
   "id": "254ab174-bab7-48c6-8fae-7ab9f063cdb4",
   "metadata": {},
   "outputs": [],
   "source": [
    "from sklearn.preprocessing import LabelEncoder\n",
    "\n",
    "# Encode Gender column\n",
    "le = LabelEncoder()\n",
    "df[\"gender\"] = le.fit_transform(df[\"gender\"])  # Male -> 1, Female -> 0\n"
   ]
  },
  {
   "cell_type": "code",
   "execution_count": 39,
   "id": "e2297bca",
   "metadata": {},
   "outputs": [
    {
     "name": "stdout",
     "output_type": "stream",
     "text": [
      "cust_id                   0\n",
      "gender                    0\n",
      "orders                    0\n",
      "jordan                    0\n",
      "gatorade                  0\n",
      "samsung                   0\n",
      "asus                      0\n",
      "udis                      0\n",
      "mondelez_international    0\n",
      "wrangler                  0\n",
      "vans                      0\n",
      "fila                      0\n",
      "brooks                    0\n",
      "h&m                       0\n",
      "dairy_queen               0\n",
      "fendi                     0\n",
      "hewlett_packard           0\n",
      "pladis                    0\n",
      "asics                     0\n",
      "siemens                   0\n",
      "j.m._smucker              0\n",
      "pop_chips                 0\n",
      "juniper                   0\n",
      "huawei                    0\n",
      "compaq                    0\n",
      "ibm                       0\n",
      "burberry                  0\n",
      "mi                        0\n",
      "lg                        0\n",
      "dior                      0\n",
      "scabal                    0\n",
      "tommy_hilfiger            0\n",
      "hollister                 0\n",
      "forever_21                0\n",
      "colavita                  0\n",
      "microsoft                 0\n",
      "jiffy_mix                 0\n",
      "kraft                     0\n",
      "dtype: int64\n",
      "cust_id                   0\n",
      "gender                    0\n",
      "orders                    0\n",
      "jordan                    0\n",
      "gatorade                  0\n",
      "samsung                   0\n",
      "asus                      0\n",
      "udis                      0\n",
      "mondelez_international    0\n",
      "wrangler                  0\n",
      "vans                      0\n",
      "fila                      0\n",
      "brooks                    0\n",
      "h&m                       0\n",
      "dairy_queen               0\n",
      "fendi                     0\n",
      "hewlett_packard           0\n",
      "pladis                    0\n",
      "asics                     0\n",
      "siemens                   0\n",
      "j.m._smucker              0\n",
      "pop_chips                 0\n",
      "juniper                   0\n",
      "huawei                    0\n",
      "compaq                    0\n",
      "ibm                       0\n",
      "burberry                  0\n",
      "mi                        0\n",
      "lg                        0\n",
      "dior                      0\n",
      "scabal                    0\n",
      "tommy_hilfiger            0\n",
      "hollister                 0\n",
      "forever_21                0\n",
      "colavita                  0\n",
      "microsoft                 0\n",
      "jiffy_mix                 0\n",
      "kraft                     0\n",
      "dtype: int64\n"
     ]
    }
   ],
   "source": [
    "import numpy as np\n",
    "import pandas as pd\n",
    "\n",
    "# Assuming 'df' is your dataset (as a pandas DataFrame)\n",
    "print(df.isna().sum())  # Check for NaNs\n",
    "print(np.isinf(df).sum())  # Check for infinities\n",
    "\n"
   ]
  },
  {
   "cell_type": "code",
   "execution_count": 40,
   "id": "5be90211",
   "metadata": {},
   "outputs": [
    {
     "name": "stdout",
     "output_type": "stream",
     "text": [
      "(30000, 38)\n",
      "   Cust_ID Gender  Orders  Jordan  Gatorade  Samsung  Asus  Udis  \\\n",
      "0        1      M       7       0         0        0     0     0   \n",
      "1        2      F       0       0         1        0     0     0   \n",
      "2        3      M       7       0         1        0     0     0   \n",
      "3        4      F       0       0         0        0     0     0   \n",
      "4        5    NaN      10       0         0        0     0     0   \n",
      "\n",
      "   Mondelez International  Wrangler  ...  LG  Dior  Scabal  Tommy Hilfiger  \\\n",
      "0                       0         0  ...   0     0       0               0   \n",
      "1                       0         0  ...   0     1       0               0   \n",
      "2                       0         0  ...   0     0       0               0   \n",
      "3                       0         0  ...   0     0       0               0   \n",
      "4                       0         0  ...   0     0       2               0   \n",
      "\n",
      "   Hollister  Forever 21  Colavita  Microsoft  Jiffy mix  Kraft  \n",
      "0          0           0         0          0          0      0  \n",
      "1          0           0         0          0          0      0  \n",
      "2          0           0         0          1          0      0  \n",
      "3          0           0         0          0          0      0  \n",
      "4          0           0         0          0          1      1  \n",
      "\n",
      "[5 rows x 38 columns]\n"
     ]
    }
   ],
   "source": [
    "# Check if the file exists and if it's loaded properly\n",
    "df = pd.read_csv(\"ecom_cust_seg.csv\")\n",
    "print(df.shape)  # Check the shape of the dataframe after loading\n",
    "print(df.head())  # Check the first few rows of the dataframe\n"
   ]
  },
  {
   "cell_type": "code",
   "execution_count": 41,
   "id": "fa985078",
   "metadata": {},
   "outputs": [
    {
     "name": "stdout",
     "output_type": "stream",
     "text": [
      "['Cust_ID', 'Orders', 'Jordan', 'Gatorade', 'Samsung', 'Asus', 'Udis', 'Mondelez International', 'Wrangler', 'Vans', 'Fila', 'Brooks', 'H&M', 'Dairy Queen', 'Fendi', 'Hewlett Packard', 'Pladis', 'Asics', 'Siemens', 'J.M. Smucker', 'Pop Chips', 'Juniper', 'Huawei', 'Compaq', 'IBM', 'Burberry', 'Mi', 'LG', 'Dior', 'Scabal', 'Tommy Hilfiger', 'Hollister', 'Forever 21', 'Colavita', 'Microsoft', 'Jiffy mix', 'Kraft']\n"
     ]
    }
   ],
   "source": [
    "# Extract the numerical columns\n",
    "num_cols = df.select_dtypes(include=[np.number]).columns.tolist()\n",
    "print(num_cols)  # Check the list of numerical columns\n"
   ]
  },
  {
   "cell_type": "code",
   "execution_count": 42,
   "id": "4ef3eacf",
   "metadata": {},
   "outputs": [
    {
     "name": "stdout",
     "output_type": "stream",
     "text": [
      "    Cust_ID Gender    Orders    Jordan  Gatorade   Samsung     Asus      Udis  \\\n",
      "0 -1.731993      M  0.788301 -0.332312 -0.357739 -0.242985 -0.21801 -0.223835   \n",
      "1 -1.731878      F -1.161423 -0.332312  1.059984 -0.242985 -0.21801 -0.223835   \n",
      "2 -1.731762      M  0.788301 -0.332312  1.059984 -0.242985 -0.21801 -0.223835   \n",
      "3 -1.731647      F -1.161423 -0.332312 -0.357739 -0.242985 -0.21801 -0.223835   \n",
      "4 -1.731531      F  1.623898 -0.332312 -0.357739 -0.242985 -0.21801 -0.223835   \n",
      "\n",
      "   Mondelez International  Wrangler  ...        LG      Dior    Scabal  \\\n",
      "0               -0.265801  -0.20727  ... -0.210814 -0.379382 -0.487923   \n",
      "1               -0.265801  -0.20727  ... -0.210814  1.019864 -0.487923   \n",
      "2               -0.265801  -0.20727  ... -0.210814 -0.379382 -0.487923   \n",
      "3               -0.265801  -0.20727  ... -0.210814 -0.379382 -0.487923   \n",
      "4               -0.265801  -0.20727  ... -0.210814 -0.379382  2.149024   \n",
      "\n",
      "   Tommy Hilfiger  Hollister  Forever 21  Colavita  Microsoft  Jiffy mix  \\\n",
      "0       -0.311382  -0.202593   -0.191062 -0.299706  -0.260578  -0.220486   \n",
      "1       -0.311382  -0.202593   -0.191062 -0.299706  -0.260578  -0.220486   \n",
      "2       -0.311382  -0.202593   -0.191062 -0.299706   1.978708  -0.220486   \n",
      "3       -0.311382  -0.202593   -0.191062 -0.299706  -0.260578  -0.220486   \n",
      "4       -0.311382  -0.202593   -0.191062 -0.299706  -0.260578   2.284083   \n",
      "\n",
      "      Kraft  \n",
      "0 -0.182775  \n",
      "1 -0.182775  \n",
      "2 -0.182775  \n",
      "3 -0.182775  \n",
      "4  2.395151  \n",
      "\n",
      "[5 rows x 38 columns]\n"
     ]
    }
   ],
   "source": [
    "import pandas as pd\n",
    "from sklearn.preprocessing import StandardScaler\n",
    "\n",
    "# Assuming your dataframe is loaded as df\n",
    "# Separate the numeric and non-numeric columns\n",
    "numeric_cols = df.select_dtypes(include=[np.number]).columns\n",
    "non_numeric_cols = df.select_dtypes(exclude=[np.number]).columns\n",
    "\n",
    "# Handle missing values for numeric columns by filling with the mean\n",
    "df[numeric_cols] = df[numeric_cols].fillna(df[numeric_cols].mean())\n",
    "\n",
    "# Handle missing values for non-numeric columns, filling with the mode (most frequent value)\n",
    "df[non_numeric_cols] = df[non_numeric_cols].apply(lambda x: x.fillna(x.mode()[0]))\n",
    "\n",
    "# Apply StandardScaler to the numeric columns\n",
    "scaler = StandardScaler()\n",
    "df[numeric_cols] = scaler.fit_transform(df[numeric_cols])\n",
    "\n",
    "# Check the first few rows after transformation\n",
    "print(df.head())\n"
   ]
  },
  {
   "cell_type": "markdown",
   "id": "f3a15995-f5fd-4e7c-8444-0ab8ff74b988",
   "metadata": {},
   "source": [
    "## Scale Numerical Features"
   ]
  },
  {
   "cell_type": "code",
   "execution_count": 43,
   "id": "c994cb71-ff90-4fd1-9bfc-3128bbde2fab",
   "metadata": {},
   "outputs": [],
   "source": [
    "from sklearn.preprocessing import StandardScaler\n",
    "\n",
    "# Select numerical columns (excluding Cust_ID)\n",
    "num_cols = df.select_dtypes(include=['int64', 'float64']).columns\n",
    "num_cols = num_cols.drop(\"cust_id\", errors=\"ignore\")  # Drop ID column if present\n",
    "\n",
    "# Standardization (zero mean, unit variance)\n",
    "scaler = StandardScaler()\n",
    "df[num_cols] = scaler.fit_transform(df[num_cols])\n"
   ]
  },
  {
   "cell_type": "markdown",
   "id": "b3ff6abe-8581-4454-bc74-12c4b0b496ab",
   "metadata": {},
   "source": [
    "## Cleaned Data"
   ]
  },
  {
   "cell_type": "code",
   "execution_count": 44,
   "id": "aecf4402-ddf2-433f-9ed7-ba7398bba3b4",
   "metadata": {},
   "outputs": [
    {
     "name": "stdout",
     "output_type": "stream",
     "text": [
      "<class 'pandas.core.frame.DataFrame'>\n",
      "RangeIndex: 30000 entries, 0 to 29999\n",
      "Data columns (total 38 columns):\n",
      " #   Column                  Non-Null Count  Dtype  \n",
      "---  ------                  --------------  -----  \n",
      " 0   Cust_ID                 30000 non-null  float64\n",
      " 1   Gender                  30000 non-null  object \n",
      " 2   Orders                  30000 non-null  float64\n",
      " 3   Jordan                  30000 non-null  float64\n",
      " 4   Gatorade                30000 non-null  float64\n",
      " 5   Samsung                 30000 non-null  float64\n",
      " 6   Asus                    30000 non-null  float64\n",
      " 7   Udis                    30000 non-null  float64\n",
      " 8   Mondelez International  30000 non-null  float64\n",
      " 9   Wrangler                30000 non-null  float64\n",
      " 10  Vans                    30000 non-null  float64\n",
      " 11  Fila                    30000 non-null  float64\n",
      " 12  Brooks                  30000 non-null  float64\n",
      " 13  H&M                     30000 non-null  float64\n",
      " 14  Dairy Queen             30000 non-null  float64\n",
      " 15  Fendi                   30000 non-null  float64\n",
      " 16  Hewlett Packard         30000 non-null  float64\n",
      " 17  Pladis                  30000 non-null  float64\n",
      " 18  Asics                   30000 non-null  float64\n",
      " 19  Siemens                 30000 non-null  float64\n",
      " 20  J.M. Smucker            30000 non-null  float64\n",
      " 21  Pop Chips               30000 non-null  float64\n",
      " 22  Juniper                 30000 non-null  float64\n",
      " 23  Huawei                  30000 non-null  float64\n",
      " 24  Compaq                  30000 non-null  float64\n",
      " 25  IBM                     30000 non-null  float64\n",
      " 26  Burberry                30000 non-null  float64\n",
      " 27  Mi                      30000 non-null  float64\n",
      " 28  LG                      30000 non-null  float64\n",
      " 29  Dior                    30000 non-null  float64\n",
      " 30  Scabal                  30000 non-null  float64\n",
      " 31  Tommy Hilfiger          30000 non-null  float64\n",
      " 32  Hollister               30000 non-null  float64\n",
      " 33  Forever 21              30000 non-null  float64\n",
      " 34  Colavita                30000 non-null  float64\n",
      " 35  Microsoft               30000 non-null  float64\n",
      " 36  Jiffy mix               30000 non-null  float64\n",
      " 37  Kraft                   30000 non-null  float64\n",
      "dtypes: float64(37), object(1)\n",
      "memory usage: 8.7+ MB\n",
      "None\n",
      "    Cust_ID Gender    Orders    Jordan  Gatorade   Samsung     Asus      Udis  \\\n",
      "0 -1.731993      M  0.788301 -0.332312 -0.357739 -0.242985 -0.21801 -0.223835   \n",
      "1 -1.731878      F -1.161423 -0.332312  1.059984 -0.242985 -0.21801 -0.223835   \n",
      "2 -1.731762      M  0.788301 -0.332312  1.059984 -0.242985 -0.21801 -0.223835   \n",
      "3 -1.731647      F -1.161423 -0.332312 -0.357739 -0.242985 -0.21801 -0.223835   \n",
      "4 -1.731531      F  1.623898 -0.332312 -0.357739 -0.242985 -0.21801 -0.223835   \n",
      "\n",
      "   Mondelez International  Wrangler  ...        LG      Dior    Scabal  \\\n",
      "0               -0.265801  -0.20727  ... -0.210814 -0.379382 -0.487923   \n",
      "1               -0.265801  -0.20727  ... -0.210814  1.019864 -0.487923   \n",
      "2               -0.265801  -0.20727  ... -0.210814 -0.379382 -0.487923   \n",
      "3               -0.265801  -0.20727  ... -0.210814 -0.379382 -0.487923   \n",
      "4               -0.265801  -0.20727  ... -0.210814 -0.379382  2.149024   \n",
      "\n",
      "   Tommy Hilfiger  Hollister  Forever 21  Colavita  Microsoft  Jiffy mix  \\\n",
      "0       -0.311382  -0.202593   -0.191062 -0.299706  -0.260578  -0.220486   \n",
      "1       -0.311382  -0.202593   -0.191062 -0.299706  -0.260578  -0.220486   \n",
      "2       -0.311382  -0.202593   -0.191062 -0.299706   1.978708  -0.220486   \n",
      "3       -0.311382  -0.202593   -0.191062 -0.299706  -0.260578  -0.220486   \n",
      "4       -0.311382  -0.202593   -0.191062 -0.299706  -0.260578   2.284083   \n",
      "\n",
      "      Kraft  \n",
      "0 -0.182775  \n",
      "1 -0.182775  \n",
      "2 -0.182775  \n",
      "3 -0.182775  \n",
      "4  2.395151  \n",
      "\n",
      "[5 rows x 38 columns]\n"
     ]
    }
   ],
   "source": [
    "print(df.info())  # Check data types and null values\n",
    "print(df.head())  # View sample cleaned data"
   ]
  },
  {
   "cell_type": "markdown",
   "id": "fa22851f-a5bf-47f6-b067-b9c71e34fdba",
   "metadata": {},
   "source": [
    "# Exploratory Data Analysis (EDA) 📊"
   ]
  },
  {
   "cell_type": "markdown",
   "id": "363bbff9-b62f-41ec-8cba-43b881e141e5",
   "metadata": {},
   "source": [
    "## Summary Statistics & Data Overview"
   ]
  },
  {
   "cell_type": "code",
   "execution_count": 45,
   "id": "543dba7c-031c-41e9-9409-d1b7989e5153",
   "metadata": {},
   "outputs": [
    {
     "name": "stdout",
     "output_type": "stream",
     "text": [
      "<class 'pandas.core.frame.DataFrame'>\n",
      "RangeIndex: 30000 entries, 0 to 29999\n",
      "Data columns (total 38 columns):\n",
      " #   Column                  Non-Null Count  Dtype  \n",
      "---  ------                  --------------  -----  \n",
      " 0   Cust_ID                 30000 non-null  float64\n",
      " 1   Gender                  30000 non-null  object \n",
      " 2   Orders                  30000 non-null  float64\n",
      " 3   Jordan                  30000 non-null  float64\n",
      " 4   Gatorade                30000 non-null  float64\n",
      " 5   Samsung                 30000 non-null  float64\n",
      " 6   Asus                    30000 non-null  float64\n",
      " 7   Udis                    30000 non-null  float64\n",
      " 8   Mondelez International  30000 non-null  float64\n",
      " 9   Wrangler                30000 non-null  float64\n",
      " 10  Vans                    30000 non-null  float64\n",
      " 11  Fila                    30000 non-null  float64\n",
      " 12  Brooks                  30000 non-null  float64\n",
      " 13  H&M                     30000 non-null  float64\n",
      " 14  Dairy Queen             30000 non-null  float64\n",
      " 15  Fendi                   30000 non-null  float64\n",
      " 16  Hewlett Packard         30000 non-null  float64\n",
      " 17  Pladis                  30000 non-null  float64\n",
      " 18  Asics                   30000 non-null  float64\n",
      " 19  Siemens                 30000 non-null  float64\n",
      " 20  J.M. Smucker            30000 non-null  float64\n",
      " 21  Pop Chips               30000 non-null  float64\n",
      " 22  Juniper                 30000 non-null  float64\n",
      " 23  Huawei                  30000 non-null  float64\n",
      " 24  Compaq                  30000 non-null  float64\n",
      " 25  IBM                     30000 non-null  float64\n",
      " 26  Burberry                30000 non-null  float64\n",
      " 27  Mi                      30000 non-null  float64\n",
      " 28  LG                      30000 non-null  float64\n",
      " 29  Dior                    30000 non-null  float64\n",
      " 30  Scabal                  30000 non-null  float64\n",
      " 31  Tommy Hilfiger          30000 non-null  float64\n",
      " 32  Hollister               30000 non-null  float64\n",
      " 33  Forever 21              30000 non-null  float64\n",
      " 34  Colavita                30000 non-null  float64\n",
      " 35  Microsoft               30000 non-null  float64\n",
      " 36  Jiffy mix               30000 non-null  float64\n",
      " 37  Kraft                   30000 non-null  float64\n",
      "dtypes: float64(37), object(1)\n",
      "memory usage: 8.7+ MB\n",
      "None\n",
      "            Cust_ID        Orders        Jordan      Gatorade       Samsung  \\\n",
      "count  3.000000e+04  3.000000e+04  3.000000e+04  3.000000e+04  3.000000e+04   \n",
      "mean  -6.063298e-17 -4.452734e-17 -1.894781e-17  1.326346e-17 -3.789561e-17   \n",
      "std    1.000017e+00  1.000017e+00  1.000017e+00  1.000017e+00  1.000017e+00   \n",
      "min   -1.731993e+00 -1.161423e+00 -3.323125e-01 -3.577387e-01 -2.429847e-01   \n",
      "25%   -8.659965e-01 -8.828910e-01 -3.323125e-01 -3.577387e-01 -2.429847e-01   \n",
      "50%   -6.063401e-17 -4.729475e-02 -3.323125e-01 -3.577387e-01 -2.429847e-01   \n",
      "75%    8.659965e-01  7.883015e-01 -3.323125e-01 -3.577387e-01 -2.429847e-01   \n",
      "max    1.731993e+00  2.180962e+00  2.949007e+01  2.090810e+01  2.918549e+01   \n",
      "\n",
      "               Asus          Udis  Mondelez International      Wrangler  \\\n",
      "count  3.000000e+04  3.000000e+04            30000.000000  3.000000e+04   \n",
      "mean  -7.579123e-18 -3.789561e-18                0.000000 -5.684342e-18   \n",
      "std    1.000017e+00  1.000017e+00                1.000017  1.000017e+00   \n",
      "min   -2.180104e-01 -2.238346e-01               -0.265801 -2.072705e-01   \n",
      "25%   -2.180104e-01 -2.238346e-01               -0.265801 -2.072705e-01   \n",
      "50%   -2.180104e-01 -2.238346e-01               -0.265801 -2.072705e-01   \n",
      "75%   -2.180104e-01 -2.238346e-01               -0.265801 -2.072705e-01   \n",
      "max    2.275416e+01  2.160861e+01               58.688462  1.723756e+01   \n",
      "\n",
      "               Vans  ...            LG          Dior        Scabal  \\\n",
      "count  3.000000e+04  ...  3.000000e+04  3.000000e+04  3.000000e+04   \n",
      "mean   5.684342e-18  ...  3.315866e-18  4.357995e-17 -3.410605e-17   \n",
      "std    1.000017e+00  ...  1.000017e+00  1.000017e+00  1.000017e+00   \n",
      "min   -2.033527e-01  ... -2.108144e-01 -3.793825e-01 -4.879231e-01   \n",
      "25%   -2.033527e-01  ... -2.108144e-01 -3.793825e-01 -4.879231e-01   \n",
      "50%   -2.033527e-01  ... -2.108144e-01 -3.793825e-01 -4.879231e-01   \n",
      "75%   -2.033527e-01  ... -2.108144e-01 -3.793825e-01  8.305505e-01   \n",
      "max    2.899477e+01  ...  3.885428e+01  1.641158e+01  1.401529e+01   \n",
      "\n",
      "       Tommy Hilfiger     Hollister    Forever 21      Colavita     Microsoft  \\\n",
      "count    3.000000e+04  3.000000e+04  3.000000e+04  3.000000e+04  3.000000e+04   \n",
      "mean    -2.936910e-17 -1.894781e-17  2.463215e-17 -1.563194e-17 -3.765876e-17   \n",
      "std      1.000017e+00  1.000017e+00  1.000017e+00  1.000017e+00  1.000017e+00   \n",
      "min     -3.113825e-01 -2.025925e-01 -1.910621e-01 -2.997061e-01 -2.605783e-01   \n",
      "25%     -3.113825e-01 -2.025925e-01 -1.910621e-01 -2.997061e-01 -2.605783e-01   \n",
      "50%     -3.113825e-01 -2.025925e-01 -1.910621e-01 -2.997061e-01 -2.605783e-01   \n",
      "75%     -3.113825e-01 -2.025925e-01 -1.910621e-01 -2.997061e-01 -2.605783e-01   \n",
      "max      1.535895e+01  2.327380e+01  2.646876e+01  3.400588e+01  3.108943e+01   \n",
      "\n",
      "          Jiffy mix         Kraft  \n",
      "count  3.000000e+04  3.000000e+04  \n",
      "mean   4.263256e-17  6.252776e-17  \n",
      "std    1.000017e+00  1.000017e+00  \n",
      "min   -2.204855e-01 -1.827749e-01  \n",
      "25%   -2.204855e-01 -1.827749e-01  \n",
      "50%   -2.204855e-01 -1.827749e-01  \n",
      "75%   -2.204855e-01 -1.827749e-01  \n",
      "max    1.981606e+01  4.106404e+01  \n",
      "\n",
      "[8 rows x 37 columns]\n"
     ]
    }
   ],
   "source": [
    "import pandas as pd\n",
    "import matplotlib.pyplot as plt\n",
    "import seaborn as sns\n",
    "\n",
    "# Basic info\n",
    "print(df.info())\n",
    "\n",
    "# Summary statistics\n",
    "print(df.describe())\n"
   ]
  },
  {
   "cell_type": "markdown",
   "id": "009726fd-cb20-4983-b825-2544f0ebb060",
   "metadata": {},
   "source": [
    "## Heatmap"
   ]
  },
  {
   "cell_type": "code",
   "execution_count": 46,
   "id": "7ad05e29-03a4-4a17-bacb-21556e4cc22b",
   "metadata": {},
   "outputs": [
    {
     "data": {
      "image/png": "[encoded data removed]",
      "text/plain": [
       "<Figure size 1000x500 with 1 Axes>"
      ]
     },
     "metadata": {},
     "output_type": "display_data"
    }
   ],
   "source": [
    "plt.figure(figsize=(10, 5))\n",
    "sns.heatmap(df.isnull(), cbar=False, cmap=\"viridis\")\n",
    "plt.title(\"Missing Values Heatmap\")\n",
    "plt.show()\n"
   ]
  },
  {
   "cell_type": "markdown",
   "id": "6dcae634-cc12-49af-b6bc-2f3f87956bac",
   "metadata": {},
   "source": [
    "## Demographic Analysis"
   ]
  },
  {
   "cell_type": "markdown",
   "id": "cc246aa2-9188-4a57-bc98-7c16df86be3e",
   "metadata": {},
   "source": [
    "### Gender Distribution"
   ]
  },
  {
   "cell_type": "code",
   "execution_count": 47,
   "id": "6573a0c0-ddba-41fe-aa76-0429bbb35918",
   "metadata": {},
   "outputs": [
    {
     "name": "stderr",
     "output_type": "stream",
     "text": [
      "C:\\Users\\devil\\AppData\\Local\\Temp\\ipykernel_14312\\4195232368.py:1: FutureWarning:\n",
      "\n",
      "\n",
      "\n",
      "Passing `palette` without assigning `hue` is deprecated and will be removed in v0.14.0. Assign the `x` variable to `hue` and set `legend=False` for the same effect.\n",
      "\n",
      "\n"
     ]
    },
    {
     "data": {
      "image/png": "[encoded data removed]",
      "text/plain": [
       "<Figure size 640x480 with 1 Axes>"
      ]
     },
     "metadata": {},
     "output_type": "display_data"
    }
   ],
   "source": [
    "sns.countplot(x=df['Gender'], palette=\"Set2\")\n",
    "plt.title(\"Gender Distribution\")\n",
    "plt.show()\n"
   ]
  },
  {
   "cell_type": "markdown",
   "id": "561d7735-3bbf-469e-b60f-2ee7f6f45477",
   "metadata": {},
   "source": [
    "## Cluster Distribution"
   ]
  },
  {
   "cell_type": "code",
   "execution_count": 84,
   "id": "8918b055-899a-4ea9-8d4c-da037044aaf4",
   "metadata": {},
   "outputs": [
    {
     "name": "stderr",
     "output_type": "stream",
     "text": [
      "C:\\Users\\devil\\AppData\\Local\\Temp\\ipykernel_14312\\4087390780.py:3: FutureWarning:\n",
      "\n",
      "\n",
      "\n",
      "Passing `palette` without assigning `hue` is deprecated and will be removed in v0.14.0. Assign the `x` variable to `hue` and set `legend=False` for the same effect.\n",
      "\n",
      "\n"
     ]
    },
    {
     "data": {
      "image/png": "[encoded data removed]",
      "text/plain": [
       "<Figure size 800x500 with 1 Axes>"
      ]
     },
     "metadata": {},
     "output_type": "display_data"
    }
   ],
   "source": [
    "# Evaluating Cluster Distribution\n",
    "plt.figure(figsize=(8, 5))\n",
    "sns.countplot(x=df['cluster'], palette=\"Set2\")\n",
    "plt.title(\"Customer Count Per Cluster\")\n",
    "plt.xlabel(\"Cluster\")\n",
    "plt.ylabel(\"Number of Customers\")\n",
    "plt.show()\n"
   ]
  },
  {
   "cell_type": "markdown",
   "id": "5f88ce7e-e331-40af-9450-f5f8ff9e0bb3",
   "metadata": {},
   "source": [
    "### Visualize Gender vs. Orders"
   ]
  },
  {
   "cell_type": "code",
   "execution_count": 94,
   "id": "4dbbf7a1",
   "metadata": {},
   "outputs": [
    {
     "name": "stdout",
     "output_type": "stream",
     "text": [
      "Index(['feature1', 'feature2', 'cluster', 'pca1', 'pca2', 'tsne1', 'tsne2'], dtype='object')\n"
     ]
    }
   ],
   "source": [
    "print(df.columns)\n"
   ]
  },
  {
   "cell_type": "code",
   "execution_count": 96,
   "id": "2c8cbe94-224c-49c0-b750-92f519a61500",
   "metadata": {},
   "outputs": [
    {
     "data": {
      "image/png": "[encoded data removed]",
      "text/plain": [
       "<Figure size 640x480 with 1 Axes>"
      ]
     },
     "metadata": {},
     "output_type": "display_data"
    }
   ],
   "source": [
    "import seaborn as sns\n",
    "import matplotlib.pyplot as plt\n",
    "\n",
    "# Create a boxplot to compare the distribution of 'feature1' by 'cluster'\n",
    "sns.boxplot(x=\"cluster\", y=\"feature1\", data=df)\n",
    "plt.title(\"Feature1 Distribution by Cluster\")\n",
    "plt.show()\n"
   ]
  },
  {
   "cell_type": "markdown",
   "id": "5147e127-d5a8-4c5e-8eb6-5c3f72df1441",
   "metadata": {},
   "source": [
    "## Purchasing Behavior Analysis"
   ]
  },
  {
   "cell_type": "code",
   "execution_count": 99,
   "id": "e317a94a-018c-4f90-83b5-f0c0a81daffe",
   "metadata": {},
   "outputs": [
    {
     "name": "stdout",
     "output_type": "stream",
     "text": [
      "   feature1  feature2  cluster      pca1          pca2       tsne1  \\\n",
      "0         1         5        1 -2.828427 -2.941441e-16 -100.730637   \n",
      "1         2         4        1 -1.414214  9.804804e-17  -40.573162   \n",
      "2         3         3        1  0.000000 -0.000000e+00  124.509735   \n",
      "3         4         2        2  1.414214 -9.804804e-17  115.820618   \n",
      "4         5         1        0  2.828427 -1.960961e-16   11.318850   \n",
      "\n",
      "        tsne2 Customer Type  \n",
      "0   -4.498798      One-Time  \n",
      "1  143.297714        Repeat  \n",
      "2  154.103180        Repeat  \n",
      "3   -5.684708        Repeat  \n",
      "4 -126.857300        Repeat  \n",
      "Repeat Purchase Ratio: 80.00%\n"
     ]
    },
    {
     "data": {
      "image/png": "[encoded data removed]",
      "text/plain": [
       "<Figure size 600x400 with 1 Axes>"
      ]
     },
     "metadata": {},
     "output_type": "display_data"
    }
   ],
   "source": [
    "import matplotlib.pyplot as plt\n",
    "\n",
    "# Create a new column to classify customers\n",
    "# Assuming 'feature1' represents the number of orders (just as an example)\n",
    "df['Customer Type'] = df['feature1'].apply(lambda x: 'Repeat' if x > 1 else 'One-Time')\n",
    "\n",
    "# Check the result\n",
    "print(df.head())\n",
    "\n",
    "# Count the number of one-time and repeat customers\n",
    "repeat_counts = df['Customer Type'].value_counts()\n",
    "\n",
    "# Print repeat purchase ratio\n",
    "repeat_ratio = (df['Customer Type'] == 'Repeat').sum() / df.shape[0]\n",
    "print(f\"Repeat Purchase Ratio: {repeat_ratio:.2%}\")\n",
    "\n",
    "# Plot a bar chart\n",
    "plt.figure(figsize=(6, 4))\n",
    "repeat_counts.plot(kind='bar', color=['teal', 'orange'])\n",
    "plt.title(\"One-Time vs Repeat Customers\")\n",
    "plt.xlabel(\"Customer Type\")\n",
    "plt.ylabel(\"Number of Customers\")\n",
    "plt.show()\n"
   ]
  },
  {
   "cell_type": "code",
   "execution_count": 102,
   "id": "9e3c2224",
   "metadata": {},
   "outputs": [
    {
     "name": "stdout",
     "output_type": "stream",
     "text": [
      "Repeat Purchase Ratio: 80.00%\n"
     ]
    },
    {
     "data": {
      "image/png": "[encoded data removed]",
      "text/plain": [
       "<Figure size 640x480 with 1 Axes>"
      ]
     },
     "metadata": {},
     "output_type": "display_data"
    }
   ],
   "source": [
    "repeat_ratio = df[df['feature1'] > 1].shape[0] / df.shape[0]\n",
    "print(f\"Repeat Purchase Ratio: {repeat_ratio:.2%}\")\n",
    "\n",
    "sns.histplot(df['feature1'], bins=30, kde=True, color=\"green\")\n",
    "plt.title(\"Distribution of Orders\")\n",
    "plt.show()\n"
   ]
  },
  {
   "cell_type": "code",
   "execution_count": 103,
   "id": "1738fd8b",
   "metadata": {},
   "outputs": [
    {
     "name": "stdout",
     "output_type": "stream",
     "text": [
      "Index(['feature1', 'feature2', 'cluster', 'pca1', 'pca2', 'tsne1', 'tsne2',\n",
      "       'Customer Type', 'total_spending'],\n",
      "      dtype='object')\n",
      "   total_spending\n",
      "0     -202.115724\n",
      "1      216.620677\n",
      "2      571.225830\n",
      "3      239.100246\n",
      "4     -213.420046\n",
      "Average Spending Per Customer: $122.28\n"
     ]
    }
   ],
   "source": [
    "# Check the column names\n",
    "print(df.columns)\n",
    "\n",
    "# Calculate total spending\n",
    "numeric_columns = df.select_dtypes(include='number').columns  # Get numeric columns\n",
    "columns_to_exclude = ['Orders']  # List of columns to exclude from sum\n",
    "columns_to_sum = [col for col in numeric_columns if col not in columns_to_exclude]  # Filter columns to sum\n",
    "\n",
    "# Now sum the selected columns\n",
    "df['total_spending'] = df[columns_to_sum].sum(axis=1)\n",
    "\n",
    "# Check if the column is created correctly\n",
    "print(df[['total_spending']].head())  # Removing 'Cust_ID' from the print statement\n",
    "\n",
    "# Calculate the average spending\n",
    "average_spending = df['total_spending'].mean()  # Calculate average spending\n",
    "print(f\"Average Spending Per Customer: ${average_spending:.2f}\")\n"
   ]
  },
  {
   "cell_type": "code",
   "execution_count": 104,
   "id": "caa9f17a-30e1-4a4a-8996-710118c35165",
   "metadata": {},
   "outputs": [
    {
     "name": "stdout",
     "output_type": "stream",
     "text": [
      "Average Spending Per Customer: $122.28\n"
     ]
    }
   ],
   "source": [
    "average_spending = df['total_spending'].mean()  # Replace 'Total_Spending' with the correct column name\n",
    "print(f\"Average Spending Per Customer: ${average_spending:.2f}\")\n"
   ]
  },
  {
   "cell_type": "code",
   "execution_count": 105,
   "id": "cdc32279-7599-4961-a220-aab289990d1d",
   "metadata": {
    "scrolled": true
   },
   "outputs": [
    {
     "name": "stdout",
     "output_type": "stream",
     "text": [
      "feature1            int64\n",
      "feature2            int64\n",
      "cluster             int32\n",
      "pca1              float64\n",
      "pca2              float64\n",
      "tsne1             float32\n",
      "tsne2             float32\n",
      "total_spending    float64\n",
      "dtype: object\n"
     ]
    }
   ],
   "source": [
    "print(df.select_dtypes(include='number').dtypes)\n",
    "df['total_spending'] = df.drop(columns=['cust_id', 'orders', 'cluster'], errors='ignore') \\\n",
    "                         .select_dtypes(include='number').sum(axis=1)\n",
    "df['revenue'] = 0  # Default to zero\n",
    "df['cost'] = 0\n",
    "df['revenue'] = df['revenue'].fillna(0)\n",
    "df['cost'] = df['cost'].fillna(0)\n"
   ]
  },
  {
   "cell_type": "code",
   "execution_count": 106,
   "id": "a203b170-c9d2-4d3c-8d87-b7e4235b88f9",
   "metadata": {
    "scrolled": true
   },
   "outputs": [
    {
     "name": "stdout",
     "output_type": "stream",
     "text": [
      "pca1              float64\n",
      "pca2              float64\n",
      "tsne1             float32\n",
      "tsne2             float32\n",
      "Customer Type      object\n",
      "total_spending    float64\n",
      "revenue             int64\n",
      "dtype: object\n",
      "pca1              1\n",
      "pca2              1\n",
      "tsne1             1\n",
      "tsne2             1\n",
      "Customer Type     1\n",
      "total_spending    1\n",
      "revenue           1\n",
      "dtype: int64\n"
     ]
    },
    {
     "name": "stderr",
     "output_type": "stream",
     "text": [
      "C:\\Users\\devil\\AppData\\Local\\Temp\\ipykernel_14312\\3323928800.py:2: FutureWarning:\n",
      "\n",
      "DataFrame.applymap has been deprecated. Use DataFrame.map instead.\n",
      "\n"
     ]
    }
   ],
   "source": [
    "print(df.iloc[:, 3:-1].dtypes)\n",
    "print(df.iloc[:, 3:-1].applymap(lambda x: type(x)).nunique())\n",
    "df = pd.get_dummies(df, columns=['Customer Type'], drop_first=True)\n"
   ]
  },
  {
   "cell_type": "code",
   "execution_count": 107,
   "id": "c47f9baa-b477-4ea3-b97a-440815336fec",
   "metadata": {},
   "outputs": [
    {
     "data": {
      "image/png": "[encoded data removed]",
      "text/plain": [
       "<Figure size 800x600 with 1 Axes>"
      ]
     },
     "metadata": {},
     "output_type": "display_data"
    }
   ],
   "source": [
    "from sklearn.decomposition import PCA\n",
    "pca = PCA(n_components=2)\n",
    "df_pca = pca.fit_transform(df.iloc[:, 3:-1])  # Exclude 'cust_id' & 'cluster'\n",
    "df[\"pca1\"] = df_pca[:, 0]\n",
    "df[\"pca2\"] = df_pca[:, 1]\n",
    "\n",
    "plt.figure(figsize=(8, 6))\n",
    "sns.scatterplot(x=df[\"pca1\"], y=df[\"pca2\"], hue=df[\"cluster\"], palette=\"Set2\")\n",
    "plt.title(\"Customer Clusters (PCA Reduced)\")\n",
    "plt.show()\n"
   ]
  },
  {
   "cell_type": "code",
   "execution_count": 108,
   "id": "e6831d14-403a-436d-8b3c-35a7955879d9",
   "metadata": {},
   "outputs": [
    {
     "name": "stderr",
     "output_type": "stream",
     "text": [
      "C:\\Users\\devil\\AppData\\Local\\Temp\\ipykernel_14312\\1863297801.py:4: FutureWarning:\n",
      "\n",
      "\n",
      "\n",
      "Passing `palette` without assigning `hue` is deprecated and will be removed in v0.14.0. Assign the `x` variable to `hue` and set `legend=False` for the same effect.\n",
      "\n",
      "\n"
     ]
    },
    {
     "data": {
      "image/png": "[encoded data removed]",
      "text/plain": [
       "<Figure size 1200x600 with 1 Axes>"
      ]
     },
     "metadata": {},
     "output_type": "display_data"
    }
   ],
   "source": [
    "top_brands = df.iloc[:, 3:].sum().sort_values(ascending=False).head(10)\n",
    "\n",
    "plt.figure(figsize=(12, 6))\n",
    "sns.barplot(x=top_brands.index, y=top_brands.values, palette=\"Blues_r\")\n",
    "plt.xticks(rotation=45)\n",
    "plt.title(\"Top 10 Most Purchased Brands\")\n",
    "plt.show()\n"
   ]
  },
  {
   "cell_type": "code",
   "execution_count": 109,
   "id": "411ff76c-255f-477e-96ab-2768aa90a34d",
   "metadata": {},
   "outputs": [
    {
     "name": "stdout",
     "output_type": "stream",
     "text": [
      "Average Profit Margin: nan\n"
     ]
    }
   ],
   "source": [
    "df['Profit'] = df['revenue'] - df['cost']  # Ensure both exist\n",
    "df['Profit_Margin'] = (df['Profit'] / df['revenue']) * 100\n",
    "\n",
    "average_profit_margin = df['Profit_Margin'].mean()\n",
    "print(\"Average Profit Margin:\", average_profit_margin)\n"
   ]
  },
  {
   "cell_type": "code",
   "execution_count": 110,
   "id": "dcb87c4c-f1f0-4459-8514-3c304fc62946",
   "metadata": {},
   "outputs": [
    {
     "data": {
      "image/png": "[encoded data removed]",
      "text/plain": [
       "<Figure size 1000x500 with 1 Axes>"
      ]
     },
     "metadata": {},
     "output_type": "display_data"
    }
   ],
   "source": [
    "import matplotlib.pyplot as plt\n",
    "import seaborn as sns\n",
    "\n",
    "plt.figure(figsize=(10, 5))\n",
    "sns.histplot(df['Profit_Margin'], bins=30, kde=True, color='skyblue')\n",
    "plt.xlabel('Profit Margin (%)')\n",
    "plt.ylabel('Frequency')\n",
    "plt.title('Distribution of Profit Margins')\n",
    "plt.show()\n"
   ]
  },
  {
   "cell_type": "markdown",
   "id": "11bec23a-ea2d-4c4c-9d03-acfde5010b07",
   "metadata": {},
   "source": [
    "##  Correlation Analysis"
   ]
  },
  {
   "cell_type": "code",
   "execution_count": 111,
   "id": "b498a809-635b-49fd-9df1-e4834bd29e12",
   "metadata": {},
   "outputs": [
    {
     "data": {
      "image/png": "[encoded data removed]",
      "text/plain": [
       "<Figure size 1200x600 with 2 Axes>"
      ]
     },
     "metadata": {},
     "output_type": "display_data"
    }
   ],
   "source": [
    "\n",
    "plt.figure(figsize=(12, 6))\n",
    "sns.heatmap(df.iloc[:, 3:].corr(), cmap=\"coolwarm\", annot=True)\n",
    "plt.title(\"Profit Margin Correlation Heatmap\")\n",
    "plt.show()"
   ]
  },
  {
   "cell_type": "code",
   "execution_count": 112,
   "id": "7d8ed07f",
   "metadata": {},
   "outputs": [
    {
     "data": {
      "image/png": "[encoded data removed]",
      "text/plain": [
       "<Figure size 1200x600 with 2 Axes>"
      ]
     },
     "metadata": {},
     "output_type": "display_data"
    }
   ],
   "source": [
    "# Select only numeric columns for correlation\n",
    "numeric_df = df.select_dtypes(include='number')\n",
    "\n",
    "# Create the heatmap for the correlation matrix\n",
    "plt.figure(figsize=(12, 6))\n",
    "sns.heatmap(numeric_df.corr(), annot=True, cmap=\"coolwarm\", fmt=\".2f\")\n",
    "plt.title(\"Feature Correlation Heatmap\")\n",
    "plt.show()\n"
   ]
  },
  {
   "cell_type": "markdown",
   "id": "6612340d-b145-4b0d-8192-c511f37e61b2",
   "metadata": {},
   "source": [
    "# Clustering with K-Means"
   ]
  },
  {
   "cell_type": "code",
   "execution_count": 113,
   "id": "58304c98-ddd6-4cec-a1b3-d95984f3f5fe",
   "metadata": {
    "scrolled": true
   },
   "outputs": [
    {
     "name": "stdout",
     "output_type": "stream",
     "text": [
      "feature1                0\n",
      "feature2                0\n",
      "cluster                 0\n",
      "pca1                    0\n",
      "pca2                    0\n",
      "tsne1                   0\n",
      "tsne2                   0\n",
      "total_spending          0\n",
      "revenue                 0\n",
      "cost                    0\n",
      "Customer Type_Repeat    0\n",
      "Profit                  0\n",
      "Profit_Margin           5\n",
      "dtype: int64\n"
     ]
    }
   ],
   "source": [
    "print(df.isna().sum())  # Shows count of NaNs per column\n"
   ]
  },
  {
   "cell_type": "code",
   "execution_count": 115,
   "id": "ba1a5861",
   "metadata": {},
   "outputs": [
    {
     "name": "stdout",
     "output_type": "stream",
     "text": [
      "feature1          0\n",
      "feature2          0\n",
      "cluster           0\n",
      "pca1              0\n",
      "pca2              0\n",
      "tsne1             0\n",
      "tsne2             0\n",
      "total_spending    0\n",
      "revenue           0\n",
      "cost              0\n",
      "Profit            0\n",
      "Profit_Margin     5\n",
      "dtype: int64\n"
     ]
    }
   ],
   "source": [
    "# Select numeric columns only\n",
    "numeric_df = df.select_dtypes(include='number')\n",
    "\n",
    "# Fill missing values (NaN) with a placeholder, e.g., mean of the column\n",
    "df_numeric_filled = numeric_df.fillna(numeric_df.mean())\n",
    "\n",
    "# Check if there are any missing values in the filled dataset\n",
    "print(df_numeric_filled.isna().sum())  # It will print the count of missing values per column\n"
   ]
  },
  {
   "cell_type": "code",
   "execution_count": 117,
   "id": "87f42dfc",
   "metadata": {},
   "outputs": [
    {
     "name": "stdout",
     "output_type": "stream",
     "text": [
      "feature1          0\n",
      "feature2          0\n",
      "cluster           0\n",
      "pca1              0\n",
      "pca2              0\n",
      "tsne1             0\n",
      "tsne2             0\n",
      "total_spending    0\n",
      "revenue           0\n",
      "cost              0\n",
      "Profit            0\n",
      "Profit_Margin     5\n",
      "dtype: int64\n"
     ]
    }
   ],
   "source": [
    "# Select numeric columns only for filling NaN\n",
    "numeric_df = df.select_dtypes(include='number')\n",
    "print(df_numeric_filled.isna().sum())\n"
   ]
  },
  {
   "cell_type": "code",
   "execution_count": 118,
   "id": "942e4315",
   "metadata": {},
   "outputs": [
    {
     "ename": "NameError",
     "evalue": "name 'df_numeric' is not defined",
     "output_type": "error",
     "traceback": [
      "\u001b[31m---------------------------------------------------------------------------\u001b[39m",
      "\u001b[31mNameError\u001b[39m                                 Traceback (most recent call last)",
      "\u001b[36mCell\u001b[39m\u001b[36m \u001b[39m\u001b[32mIn[118]\u001b[39m\u001b[32m, line 4\u001b[39m\n\u001b[32m      2\u001b[39m df_filled = df.copy()  \u001b[38;5;66;03m# Create a copy to avoid modifying the original DataFrame\u001b[39;00m\n\u001b[32m      3\u001b[39m df_filled[numeric_df.columns] = numeric_df.fillna(numeric_df.mean())\n\u001b[32m----> \u001b[39m\u001b[32m4\u001b[39m df_numeric_filled = \u001b[43mdf_numeric\u001b[49m.fillna(df_numeric.mean())\n\u001b[32m      5\u001b[39m df_numeric_filled = df_numeric_filled.dropna()\n",
      "\u001b[31mNameError\u001b[39m: name 'df_numeric' is not defined"
     ]
    }
   ],
   "source": [
    "\n",
    "# Fill NaN values with the mean of each column\n",
    "df_filled = df.copy()  # Create a copy to avoid modifying the original DataFrame\n",
    "df_filled[numeric_df.columns] = numeric_df.fillna(numeric_df.mean())\n",
    "df_numeric_filled = df_numeric.fillna(df_numeric.mean())\n",
    "df_numeric_filled = df_numeric_filled.dropna()\n",
    "\n",
    "\n"
   ]
  },
  {
   "cell_type": "code",
   "execution_count": 119,
   "id": "3145c013",
   "metadata": {},
   "outputs": [
    {
     "name": "stdout",
     "output_type": "stream",
     "text": [
      "feature1                0\n",
      "feature2                0\n",
      "cluster                 0\n",
      "pca1                    0\n",
      "pca2                    0\n",
      "tsne1                   0\n",
      "tsne2                   0\n",
      "total_spending          0\n",
      "revenue                 0\n",
      "cost                    0\n",
      "Customer Type_Repeat    0\n",
      "Profit                  0\n",
      "Profit_Margin           5\n",
      "dtype: int64\n"
     ]
    }
   ],
   "source": [
    "print(df_filled.isna().sum())  # Check if there are any missing values\n",
    "df_filled['Profit_Margin'] = df_filled['Profit_Margin'].fillna(df_filled['Profit_Margin'].mean())  # Or use .median()\n",
    "df_filled = df_filled.dropna(subset=['Profit_Margin'])\n"
   ]
  },
  {
   "cell_type": "code",
   "execution_count": 120,
   "id": "9cc649a8",
   "metadata": {},
   "outputs": [
    {
     "name": "stdout",
     "output_type": "stream",
     "text": [
      "Shape before dropping rows: (0, 13)\n",
      "Shape after dropping rows: (0, 13)\n",
      "5\n"
     ]
    }
   ],
   "source": [
    "print(f\"Shape before dropping rows: {df_filled.shape}\")\n",
    "df_filled = df_filled.dropna(subset=['Profit_Margin'])\n",
    "print(f\"Shape after dropping rows: {df_filled.shape}\")\n",
    "print(df['Profit_Margin'].isna().sum())  # Check how many NaNs in 'Profit_Margin'\n",
    "\n"
   ]
  },
  {
   "cell_type": "code",
   "execution_count": 121,
   "id": "5c1719c0",
   "metadata": {},
   "outputs": [
    {
     "name": "stdout",
     "output_type": "stream",
     "text": [
      "5\n"
     ]
    }
   ],
   "source": [
    "df_filled['Profit_Margin'] = df_filled['Profit_Margin'].fillna(df_filled['Profit_Margin'].mean())\n",
    "print(df['Profit_Margin'].isna().sum())  # Check how many NaNs in 'Profit_Margin'\n"
   ]
  },
  {
   "cell_type": "code",
   "execution_count": 122,
   "id": "ba2e2452",
   "metadata": {},
   "outputs": [
    {
     "name": "stdout",
     "output_type": "stream",
     "text": [
      "Shape after filling missing values: (0, 13)\n"
     ]
    }
   ],
   "source": [
    "# Fill missing values with the mean of the Profit_Margin column\n",
    "df_filled['Profit_Margin'] = df_filled['Profit_Margin'].fillna(df_filled['Profit_Margin'].mean())\n",
    "\n",
    "# Ensure the DataFrame is not empty after this step\n",
    "print(f\"Shape after filling missing values: {df_filled.shape}\")\n"
   ]
  },
  {
   "cell_type": "code",
   "execution_count": 123,
   "id": "eb1ebe13",
   "metadata": {},
   "outputs": [
    {
     "name": "stdout",
     "output_type": "stream",
     "text": [
      "feature1                0\n",
      "feature2                0\n",
      "cluster                 0\n",
      "pca1                    0\n",
      "pca2                    0\n",
      "tsne1                   0\n",
      "tsne2                   0\n",
      "total_spending          0\n",
      "revenue                 0\n",
      "cost                    0\n",
      "Customer Type_Repeat    0\n",
      "Profit                  0\n",
      "Profit_Margin           0\n",
      "dtype: int64\n"
     ]
    }
   ],
   "source": [
    "print(df_filled.isna().sum())  # Check for missing values\n"
   ]
  },
  {
   "cell_type": "code",
   "execution_count": 124,
   "id": "d7341b51",
   "metadata": {},
   "outputs": [
    {
     "name": "stdout",
     "output_type": "stream",
     "text": [
      "Rows before filtering: 5\n",
      "Rows after filtering: 0\n"
     ]
    }
   ],
   "source": [
    "# Check how many rows are there before and after dropping rows (if any)\n",
    "print(f\"Rows before filtering: {len(df)}\")\n",
    "df_filled = df.dropna()  # Dropping all rows with any NaN values\n",
    "print(f\"Rows after filtering: {len(df_filled)}\")\n"
   ]
  },
  {
   "cell_type": "code",
   "execution_count": 125,
   "id": "38ff3919",
   "metadata": {},
   "outputs": [
    {
     "name": "stdout",
     "output_type": "stream",
     "text": [
      "Missing values in 'Profit_Margin': 5\n",
      "Rows after filtering: 0\n",
      "Remaining missing values: feature1                0\n",
      "feature2                0\n",
      "cluster                 0\n",
      "pca1                    0\n",
      "pca2                    0\n",
      "tsne1                   0\n",
      "tsne2                   0\n",
      "total_spending          0\n",
      "revenue                 0\n",
      "cost                    0\n",
      "Customer Type_Repeat    0\n",
      "Profit                  0\n",
      "Profit_Margin           0\n",
      "dtype: int64\n"
     ]
    }
   ],
   "source": [
    "# Check for missing values in 'Profit_Margin' and handle accordingly\n",
    "print(f\"Missing values in 'Profit_Margin': {df['Profit_Margin'].isna().sum()}\")\n",
    "\n",
    "# Fill NaN values in 'Profit_Margin' (if not already filled)\n",
    "df['Profit_Margin'] = df['Profit_Margin'].fillna(df['Profit_Margin'].mean())\n",
    "\n",
    "# Drop rows only with NaN in 'Profit_Margin'\n",
    "df_filled = df.dropna(subset=['Profit_Margin'])\n",
    "\n",
    "# Check the shape after dropna\n",
    "print(f\"Rows after filtering: {df_filled.shape[0]}\")\n",
    "\n",
    "# Now check if there are any other NaN values\n",
    "print(f\"Remaining missing values: {df_filled.isna().sum()}\")\n"
   ]
  },
  {
   "cell_type": "code",
   "execution_count": 126,
   "id": "628855de",
   "metadata": {},
   "outputs": [],
   "source": [
    "# Drop the 'Profit_Margin' column\n",
    "df_filled = df.drop(columns=['Profit_Margin'])\n"
   ]
  },
  {
   "cell_type": "code",
   "execution_count": 127,
   "id": "0a4b27b7",
   "metadata": {},
   "outputs": [],
   "source": [
    "# Fill missing values in 'Profit_Margin' with 0 (or another suitable value)\n",
    "df['Profit_Margin'] = df['Profit_Margin'].fillna(0)\n"
   ]
  },
  {
   "cell_type": "code",
   "execution_count": 128,
   "id": "6b150a8a",
   "metadata": {},
   "outputs": [
    {
     "name": "stdout",
     "output_type": "stream",
     "text": [
      "Non-numeric columns: Index([], dtype='object')\n"
     ]
    }
   ],
   "source": [
    "# Check columns with non-numeric data types\n",
    "non_numeric_columns = df_filled.select_dtypes(include=['object']).columns\n",
    "print(\"Non-numeric columns:\", non_numeric_columns)\n"
   ]
  },
  {
   "cell_type": "code",
   "execution_count": 130,
   "id": "f0b6f433",
   "metadata": {},
   "outputs": [
    {
     "name": "stdout",
     "output_type": "stream",
     "text": [
      "Index(['feature1', 'feature2', 'cluster', 'pca1', 'pca2', 'tsne1', 'tsne2',\n",
      "       'total_spending', 'revenue', 'cost', 'Customer Type_Repeat', 'Profit'],\n",
      "      dtype='object')\n"
     ]
    }
   ],
   "source": [
    "# Check the columns of the df_filled DataFrame\n",
    "print(df_filled.columns)\n"
   ]
  },
  {
   "cell_type": "code",
   "execution_count": 131,
   "id": "10109170",
   "metadata": {},
   "outputs": [
    {
     "name": "stdout",
     "output_type": "stream",
     "text": [
      "0    1\n",
      "1    0\n",
      "2    0\n",
      "3    1\n",
      "4    1\n",
      "Name: Gender, dtype: int64\n"
     ]
    }
   ],
   "source": [
    "# Example of adding a 'Gender' column if you have the data\n",
    "df_filled['Gender'] = ['Male', 'Female', 'Female', 'Male', 'Male']  # Adjust based on your data\n",
    "\n",
    "# Initialize the label encoder\n",
    "label_encoder = LabelEncoder()\n",
    "\n",
    "# Convert the 'Gender' column to numeric values\n",
    "df_filled['Gender'] = label_encoder.fit_transform(df_filled['Gender'])\n",
    "\n",
    "# Check the conversion\n",
    "print(df_filled['Gender'].head())\n"
   ]
  },
  {
   "cell_type": "code",
   "execution_count": 132,
   "id": "2a8ec70b",
   "metadata": {},
   "outputs": [
    {
     "name": "stdout",
     "output_type": "stream",
     "text": [
      "0    1\n",
      "1    0\n",
      "2    0\n",
      "3    1\n",
      "4    1\n",
      "Name: Gender, dtype: int64\n"
     ]
    }
   ],
   "source": [
    "from sklearn.preprocessing import LabelEncoder\n",
    "\n",
    "# Initialize the label encoder\n",
    "label_encoder = LabelEncoder()\n",
    "\n",
    "# Convert the 'Gender' column to numeric values\n",
    "df_filled['Gender'] = label_encoder.fit_transform(df_filled['Gender'])\n",
    "\n",
    "# Check the conversion\n",
    "print(df_filled['Gender'].head())\n"
   ]
  },
  {
   "cell_type": "code",
   "execution_count": 133,
   "id": "d21063c4",
   "metadata": {},
   "outputs": [
    {
     "data": {
      "text/html": [
       "<style>#sk-container-id-2 {\n",
       "  /* Definition of color scheme common for light and dark mode */\n",
       "  --sklearn-color-text: #000;\n",
       "  --sklearn-color-text-muted: #666;\n",
       "  --sklearn-color-line: gray;\n",
       "  /* Definition of color scheme for unfitted estimators */\n",
       "  --sklearn-color-unfitted-level-0: #fff5e6;\n",
       "  --sklearn-color-unfitted-level-1: #f6e4d2;\n",
       "  --sklearn-color-unfitted-level-2: #ffe0b3;\n",
       "  --sklearn-color-unfitted-level-3: chocolate;\n",
       "  /* Definition of color scheme for fitted estimators */\n",
       "  --sklearn-color-fitted-level-0: #f0f8ff;\n",
       "  --sklearn-color-fitted-level-1: #d4ebff;\n",
       "  --sklearn-color-fitted-level-2: #b3dbfd;\n",
       "  --sklearn-color-fitted-level-3: cornflowerblue;\n",
       "\n",
       "  /* Specific color for light theme */\n",
       "  --sklearn-color-text-on-default-background: var(--sg-text-color, var(--theme-code-foreground, var(--jp-content-font-color1, black)));\n",
       "  --sklearn-color-background: var(--sg-background-color, var(--theme-background, var(--jp-layout-color0, white)));\n",
       "  --sklearn-color-border-box: var(--sg-text-color, var(--theme-code-foreground, var(--jp-content-font-color1, black)));\n",
       "  --sklearn-color-icon: #696969;\n",
       "\n",
       "  @media (prefers-color-scheme: dark) {\n",
       "    /* Redefinition of color scheme for dark theme */\n",
       "    --sklearn-color-text-on-default-background: var(--sg-text-color, var(--theme-code-foreground, var(--jp-content-font-color1, white)));\n",
       "    --sklearn-color-background: var(--sg-background-color, var(--theme-background, var(--jp-layout-color0, #111)));\n",
       "    --sklearn-color-border-box: var(--sg-text-color, var(--theme-code-foreground, var(--jp-content-font-color1, white)));\n",
       "    --sklearn-color-icon: #878787;\n",
       "  }\n",
       "}\n",
       "\n",
       "#sk-container-id-2 {\n",
       "  color: var(--sklearn-color-text);\n",
       "}\n",
       "\n",
       "#sk-container-id-2 pre {\n",
       "  padding: 0;\n",
       "}\n",
       "\n",
       "#sk-container-id-2 input.sk-hidden--visually {\n",
       "  border: 0;\n",
       "  clip: rect(1px 1px 1px 1px);\n",
       "  clip: rect(1px, 1px, 1px, 1px);\n",
       "  height: 1px;\n",
       "  margin: -1px;\n",
       "  overflow: hidden;\n",
       "  padding: 0;\n",
       "  position: absolute;\n",
       "  width: 1px;\n",
       "}\n",
       "\n",
       "#sk-container-id-2 div.sk-dashed-wrapped {\n",
       "  border: 1px dashed var(--sklearn-color-line);\n",
       "  margin: 0 0.4em 0.5em 0.4em;\n",
       "  box-sizing: border-box;\n",
       "  padding-bottom: 0.4em;\n",
       "  background-color: var(--sklearn-color-background);\n",
       "}\n",
       "\n",
       "#sk-container-id-2 div.sk-container {\n",
       "  /* jupyter's `normalize.less` sets `[hidden] { display: none; }`\n",
       "     but bootstrap.min.css set `[hidden] { display: none !important; }`\n",
       "     so we also need the `!important` here to be able to override the\n",
       "     default hidden behavior on the sphinx rendered scikit-learn.org.\n",
       "     See: https://github.com/scikit-learn/scikit-learn/issues/21755 */\n",
       "  display: inline-block !important;\n",
       "  position: relative;\n",
       "}\n",
       "\n",
       "#sk-container-id-2 div.sk-text-repr-fallback {\n",
       "  display: none;\n",
       "}\n",
       "\n",
       "div.sk-parallel-item,\n",
       "div.sk-serial,\n",
       "div.sk-item {\n",
       "  /* draw centered vertical line to link estimators */\n",
       "  background-image: linear-gradient(var(--sklearn-color-text-on-default-background), var(--sklearn-color-text-on-default-background));\n",
       "  background-size: 2px 100%;\n",
       "  background-repeat: no-repeat;\n",
       "  background-position: center center;\n",
       "}\n",
       "\n",
       "/* Parallel-specific style estimator block */\n",
       "\n",
       "#sk-container-id-2 div.sk-parallel-item::after {\n",
       "  content: \"\";\n",
       "  width: 100%;\n",
       "  border-bottom: 2px solid var(--sklearn-color-text-on-default-background);\n",
       "  flex-grow: 1;\n",
       "}\n",
       "\n",
       "#sk-container-id-2 div.sk-parallel {\n",
       "  display: flex;\n",
       "  align-items: stretch;\n",
       "  justify-content: center;\n",
       "  background-color: var(--sklearn-color-background);\n",
       "  position: relative;\n",
       "}\n",
       "\n",
       "#sk-container-id-2 div.sk-parallel-item {\n",
       "  display: flex;\n",
       "  flex-direction: column;\n",
       "}\n",
       "\n",
       "#sk-container-id-2 div.sk-parallel-item:first-child::after {\n",
       "  align-self: flex-end;\n",
       "  width: 50%;\n",
       "}\n",
       "\n",
       "#sk-container-id-2 div.sk-parallel-item:last-child::after {\n",
       "  align-self: flex-start;\n",
       "  width: 50%;\n",
       "}\n",
       "\n",
       "#sk-container-id-2 div.sk-parallel-item:only-child::after {\n",
       "  width: 0;\n",
       "}\n",
       "\n",
       "/* Serial-specific style estimator block */\n",
       "\n",
       "#sk-container-id-2 div.sk-serial {\n",
       "  display: flex;\n",
       "  flex-direction: column;\n",
       "  align-items: center;\n",
       "  background-color: var(--sklearn-color-background);\n",
       "  padding-right: 1em;\n",
       "  padding-left: 1em;\n",
       "}\n",
       "\n",
       "\n",
       "/* Toggleable style: style used for estimator/Pipeline/ColumnTransformer box that is\n",
       "clickable and can be expanded/collapsed.\n",
       "- Pipeline and ColumnTransformer use this feature and define the default style\n",
       "- Estimators will overwrite some part of the style using the `sk-estimator` class\n",
       "*/\n",
       "\n",
       "/* Pipeline and ColumnTransformer style (default) */\n",
       "\n",
       "#sk-container-id-2 div.sk-toggleable {\n",
       "  /* Default theme specific background. It is overwritten whether we have a\n",
       "  specific estimator or a Pipeline/ColumnTransformer */\n",
       "  background-color: var(--sklearn-color-background);\n",
       "}\n",
       "\n",
       "/* Toggleable label */\n",
       "#sk-container-id-2 label.sk-toggleable__label {\n",
       "  cursor: pointer;\n",
       "  display: flex;\n",
       "  width: 100%;\n",
       "  margin-bottom: 0;\n",
       "  padding: 0.5em;\n",
       "  box-sizing: border-box;\n",
       "  text-align: center;\n",
       "  align-items: start;\n",
       "  justify-content: space-between;\n",
       "  gap: 0.5em;\n",
       "}\n",
       "\n",
       "#sk-container-id-2 label.sk-toggleable__label .caption {\n",
       "  font-size: 0.6rem;\n",
       "  font-weight: lighter;\n",
       "  color: var(--sklearn-color-text-muted);\n",
       "}\n",
       "\n",
       "#sk-container-id-2 label.sk-toggleable__label-arrow:before {\n",
       "  /* Arrow on the left of the label */\n",
       "  content: \"▸\";\n",
       "  float: left;\n",
       "  margin-right: 0.25em;\n",
       "  color: var(--sklearn-color-icon);\n",
       "}\n",
       "\n",
       "#sk-container-id-2 label.sk-toggleable__label-arrow:hover:before {\n",
       "  color: var(--sklearn-color-text);\n",
       "}\n",
       "\n",
       "/* Toggleable content - dropdown */\n",
       "\n",
       "#sk-container-id-2 div.sk-toggleable__content {\n",
       "  max-height: 0;\n",
       "  max-width: 0;\n",
       "  overflow: hidden;\n",
       "  text-align: left;\n",
       "  /* unfitted */\n",
       "  background-color: var(--sklearn-color-unfitted-level-0);\n",
       "}\n",
       "\n",
       "#sk-container-id-2 div.sk-toggleable__content.fitted {\n",
       "  /* fitted */\n",
       "  background-color: var(--sklearn-color-fitted-level-0);\n",
       "}\n",
       "\n",
       "#sk-container-id-2 div.sk-toggleable__content pre {\n",
       "  margin: 0.2em;\n",
       "  border-radius: 0.25em;\n",
       "  color: var(--sklearn-color-text);\n",
       "  /* unfitted */\n",
       "  background-color: var(--sklearn-color-unfitted-level-0);\n",
       "}\n",
       "\n",
       "#sk-container-id-2 div.sk-toggleable__content.fitted pre {\n",
       "  /* unfitted */\n",
       "  background-color: var(--sklearn-color-fitted-level-0);\n",
       "}\n",
       "\n",
       "#sk-container-id-2 input.sk-toggleable__control:checked~div.sk-toggleable__content {\n",
       "  /* Expand drop-down */\n",
       "  max-height: 200px;\n",
       "  max-width: 100%;\n",
       "  overflow: auto;\n",
       "}\n",
       "\n",
       "#sk-container-id-2 input.sk-toggleable__control:checked~label.sk-toggleable__label-arrow:before {\n",
       "  content: \"▾\";\n",
       "}\n",
       "\n",
       "/* Pipeline/ColumnTransformer-specific style */\n",
       "\n",
       "#sk-container-id-2 div.sk-label input.sk-toggleable__control:checked~label.sk-toggleable__label {\n",
       "  color: var(--sklearn-color-text);\n",
       "  background-color: var(--sklearn-color-unfitted-level-2);\n",
       "}\n",
       "\n",
       "#sk-container-id-2 div.sk-label.fitted input.sk-toggleable__control:checked~label.sk-toggleable__label {\n",
       "  background-color: var(--sklearn-color-fitted-level-2);\n",
       "}\n",
       "\n",
       "/* Estimator-specific style */\n",
       "\n",
       "/* Colorize estimator box */\n",
       "#sk-container-id-2 div.sk-estimator input.sk-toggleable__control:checked~label.sk-toggleable__label {\n",
       "  /* unfitted */\n",
       "  background-color: var(--sklearn-color-unfitted-level-2);\n",
       "}\n",
       "\n",
       "#sk-container-id-2 div.sk-estimator.fitted input.sk-toggleable__control:checked~label.sk-toggleable__label {\n",
       "  /* fitted */\n",
       "  background-color: var(--sklearn-color-fitted-level-2);\n",
       "}\n",
       "\n",
       "#sk-container-id-2 div.sk-label label.sk-toggleable__label,\n",
       "#sk-container-id-2 div.sk-label label {\n",
       "  /* The background is the default theme color */\n",
       "  color: var(--sklearn-color-text-on-default-background);\n",
       "}\n",
       "\n",
       "/* On hover, darken the color of the background */\n",
       "#sk-container-id-2 div.sk-label:hover label.sk-toggleable__label {\n",
       "  color: var(--sklearn-color-text);\n",
       "  background-color: var(--sklearn-color-unfitted-level-2);\n",
       "}\n",
       "\n",
       "/* Label box, darken color on hover, fitted */\n",
       "#sk-container-id-2 div.sk-label.fitted:hover label.sk-toggleable__label.fitted {\n",
       "  color: var(--sklearn-color-text);\n",
       "  background-color: var(--sklearn-color-fitted-level-2);\n",
       "}\n",
       "\n",
       "/* Estimator label */\n",
       "\n",
       "#sk-container-id-2 div.sk-label label {\n",
       "  font-family: monospace;\n",
       "  font-weight: bold;\n",
       "  display: inline-block;\n",
       "  line-height: 1.2em;\n",
       "}\n",
       "\n",
       "#sk-container-id-2 div.sk-label-container {\n",
       "  text-align: center;\n",
       "}\n",
       "\n",
       "/* Estimator-specific */\n",
       "#sk-container-id-2 div.sk-estimator {\n",
       "  font-family: monospace;\n",
       "  border: 1px dotted var(--sklearn-color-border-box);\n",
       "  border-radius: 0.25em;\n",
       "  box-sizing: border-box;\n",
       "  margin-bottom: 0.5em;\n",
       "  /* unfitted */\n",
       "  background-color: var(--sklearn-color-unfitted-level-0);\n",
       "}\n",
       "\n",
       "#sk-container-id-2 div.sk-estimator.fitted {\n",
       "  /* fitted */\n",
       "  background-color: var(--sklearn-color-fitted-level-0);\n",
       "}\n",
       "\n",
       "/* on hover */\n",
       "#sk-container-id-2 div.sk-estimator:hover {\n",
       "  /* unfitted */\n",
       "  background-color: var(--sklearn-color-unfitted-level-2);\n",
       "}\n",
       "\n",
       "#sk-container-id-2 div.sk-estimator.fitted:hover {\n",
       "  /* fitted */\n",
       "  background-color: var(--sklearn-color-fitted-level-2);\n",
       "}\n",
       "\n",
       "/* Specification for estimator info (e.g. \"i\" and \"?\") */\n",
       "\n",
       "/* Common style for \"i\" and \"?\" */\n",
       "\n",
       ".sk-estimator-doc-link,\n",
       "a:link.sk-estimator-doc-link,\n",
       "a:visited.sk-estimator-doc-link {\n",
       "  float: right;\n",
       "  font-size: smaller;\n",
       "  line-height: 1em;\n",
       "  font-family: monospace;\n",
       "  background-color: var(--sklearn-color-background);\n",
       "  border-radius: 1em;\n",
       "  height: 1em;\n",
       "  width: 1em;\n",
       "  text-decoration: none !important;\n",
       "  margin-left: 0.5em;\n",
       "  text-align: center;\n",
       "  /* unfitted */\n",
       "  border: var(--sklearn-color-unfitted-level-1) 1pt solid;\n",
       "  color: var(--sklearn-color-unfitted-level-1);\n",
       "}\n",
       "\n",
       ".sk-estimator-doc-link.fitted,\n",
       "a:link.sk-estimator-doc-link.fitted,\n",
       "a:visited.sk-estimator-doc-link.fitted {\n",
       "  /* fitted */\n",
       "  border: var(--sklearn-color-fitted-level-1) 1pt solid;\n",
       "  color: var(--sklearn-color-fitted-level-1);\n",
       "}\n",
       "\n",
       "/* On hover */\n",
       "div.sk-estimator:hover .sk-estimator-doc-link:hover,\n",
       ".sk-estimator-doc-link:hover,\n",
       "div.sk-label-container:hover .sk-estimator-doc-link:hover,\n",
       ".sk-estimator-doc-link:hover {\n",
       "  /* unfitted */\n",
       "  background-color: var(--sklearn-color-unfitted-level-3);\n",
       "  color: var(--sklearn-color-background);\n",
       "  text-decoration: none;\n",
       "}\n",
       "\n",
       "div.sk-estimator.fitted:hover .sk-estimator-doc-link.fitted:hover,\n",
       ".sk-estimator-doc-link.fitted:hover,\n",
       "div.sk-label-container:hover .sk-estimator-doc-link.fitted:hover,\n",
       ".sk-estimator-doc-link.fitted:hover {\n",
       "  /* fitted */\n",
       "  background-color: var(--sklearn-color-fitted-level-3);\n",
       "  color: var(--sklearn-color-background);\n",
       "  text-decoration: none;\n",
       "}\n",
       "\n",
       "/* Span, style for the box shown on hovering the info icon */\n",
       ".sk-estimator-doc-link span {\n",
       "  display: none;\n",
       "  z-index: 9999;\n",
       "  position: relative;\n",
       "  font-weight: normal;\n",
       "  right: .2ex;\n",
       "  padding: .5ex;\n",
       "  margin: .5ex;\n",
       "  width: min-content;\n",
       "  min-width: 20ex;\n",
       "  max-width: 50ex;\n",
       "  color: var(--sklearn-color-text);\n",
       "  box-shadow: 2pt 2pt 4pt #999;\n",
       "  /* unfitted */\n",
       "  background: var(--sklearn-color-unfitted-level-0);\n",
       "  border: .5pt solid var(--sklearn-color-unfitted-level-3);\n",
       "}\n",
       "\n",
       ".sk-estimator-doc-link.fitted span {\n",
       "  /* fitted */\n",
       "  background: var(--sklearn-color-fitted-level-0);\n",
       "  border: var(--sklearn-color-fitted-level-3);\n",
       "}\n",
       "\n",
       ".sk-estimator-doc-link:hover span {\n",
       "  display: block;\n",
       "}\n",
       "\n",
       "/* \"?\"-specific style due to the `<a>` HTML tag */\n",
       "\n",
       "#sk-container-id-2 a.estimator_doc_link {\n",
       "  float: right;\n",
       "  font-size: 1rem;\n",
       "  line-height: 1em;\n",
       "  font-family: monospace;\n",
       "  background-color: var(--sklearn-color-background);\n",
       "  border-radius: 1rem;\n",
       "  height: 1rem;\n",
       "  width: 1rem;\n",
       "  text-decoration: none;\n",
       "  /* unfitted */\n",
       "  color: var(--sklearn-color-unfitted-level-1);\n",
       "  border: var(--sklearn-color-unfitted-level-1) 1pt solid;\n",
       "}\n",
       "\n",
       "#sk-container-id-2 a.estimator_doc_link.fitted {\n",
       "  /* fitted */\n",
       "  border: var(--sklearn-color-fitted-level-1) 1pt solid;\n",
       "  color: var(--sklearn-color-fitted-level-1);\n",
       "}\n",
       "\n",
       "/* On hover */\n",
       "#sk-container-id-2 a.estimator_doc_link:hover {\n",
       "  /* unfitted */\n",
       "  background-color: var(--sklearn-color-unfitted-level-3);\n",
       "  color: var(--sklearn-color-background);\n",
       "  text-decoration: none;\n",
       "}\n",
       "\n",
       "#sk-container-id-2 a.estimator_doc_link.fitted:hover {\n",
       "  /* fitted */\n",
       "  background-color: var(--sklearn-color-fitted-level-3);\n",
       "}\n",
       "</style><div id=\"sk-container-id-2\" class=\"sk-top-container\"><div class=\"sk-text-repr-fallback\"><pre>KMeans(n_clusters=3, n_init=10, random_state=42)</pre><b>In a Jupyter environment, please rerun this cell to show the HTML representation or trust the notebook. <br />On GitHub, the HTML representation is unable to render, please try loading this page with nbviewer.org.</b></div><div class=\"sk-container\" hidden><div class=\"sk-item\"><div class=\"sk-estimator fitted sk-toggleable\"><input class=\"sk-toggleable__control sk-hidden--visually\" id=\"sk-estimator-id-2\" type=\"checkbox\" checked><label for=\"sk-estimator-id-2\" class=\"sk-toggleable__label fitted sk-toggleable__label-arrow\"><div><div>KMeans</div></div><div><a class=\"sk-estimator-doc-link fitted\" rel=\"noreferrer\" target=\"_blank\" href=\"https://scikit-learn.org/1.6/modules/generated/sklearn.cluster.KMeans.html\">?<span>Documentation for KMeans</span></a><span class=\"sk-estimator-doc-link fitted\">i<span>Fitted</span></span></div></label><div class=\"sk-toggleable__content fitted\"><pre>KMeans(n_clusters=3, n_init=10, random_state=42)</pre></div> </div></div></div></div>"
      ],
      "text/plain": [
       "KMeans(n_clusters=3, n_init=10, random_state=42)"
      ]
     },
     "execution_count": 133,
     "metadata": {},
     "output_type": "execute_result"
    }
   ],
   "source": [
    "kmeans = KMeans(n_clusters=3, random_state=42, n_init=10)\n",
    "kmeans.fit(df_filled)\n"
   ]
  },
  {
   "cell_type": "code",
   "execution_count": 137,
   "id": "ed06ae09",
   "metadata": {},
   "outputs": [
    {
     "data": {
      "image/png": "[encoded data removed]",
      "text/plain": [
       "<Figure size 640x480 with 1 Axes>"
      ]
     },
     "metadata": {},
     "output_type": "display_data"
    }
   ],
   "source": [
    "# Apply KMeans\n",
    "inertia = []\n",
    "n_samples = df_filled.shape[0]  # Get the number of samples in the dataset\n",
    "\n",
    "# Set the maximum number of clusters to the number of samples\n",
    "max_clusters = min(10, n_samples)\n",
    "\n",
    "for k in range(1, max_clusters + 1):\n",
    "    kmeans = KMeans(n_clusters=k, random_state=42, n_init=10)\n",
    "    kmeans.fit(df_filled)  # Now using filled dataset\n",
    "    inertia.append(kmeans.inertia_)\n",
    "\n",
    "# Plot the Elbow Curve\n",
    "plt.plot(range(1, max_clusters + 1), inertia, marker='o')\n",
    "plt.xlabel('Number of Clusters')\n",
    "plt.ylabel('Inertia')\n",
    "plt.title('Elbow Method for Optimal K')\n",
    "plt.show()\n"
   ]
  },
  {
   "cell_type": "code",
   "execution_count": 140,
   "id": "a85ab0e4",
   "metadata": {},
   "outputs": [
    {
     "name": "stdout",
     "output_type": "stream",
     "text": [
      "Index(['feature1', 'feature2', 'cluster', 'pca1', 'pca2', 'tsne1', 'tsne2',\n",
      "       'total_spending', 'revenue', 'cost', 'Customer Type_Repeat', 'Profit',\n",
      "       'Profit_Margin'],\n",
      "      dtype='object')\n"
     ]
    }
   ],
   "source": [
    "# Check the column names in the DataFrame\n",
    "print(df.columns)\n"
   ]
  },
  {
   "cell_type": "code",
   "execution_count": 141,
   "id": "3e599958",
   "metadata": {},
   "outputs": [
    {
     "data": {
      "image/png": "[encoded data removed]",
      "text/plain": [
       "<Figure size 640x480 with 1 Axes>"
      ]
     },
     "metadata": {},
     "output_type": "display_data"
    }
   ],
   "source": [
    "import seaborn as sns\n",
    "import matplotlib.pyplot as plt\n",
    "\n",
    "# Check if the 'cluster' column exists and contains values\n",
    "if 'cluster' in df.columns:\n",
    "    # Visualize clusters with Orders and Gender\n",
    "    # Visualize clusters with total_spending and Gender (or another relevant column)\n",
    "    sns.scatterplot(x=df['total_spending'], y=df['Customer Type_Repeat'], hue=df['cluster'], palette=\"viridis\")\n",
    "    plt.title(\"Customer Segmentation\")\n",
    "    plt.xlabel(\"Total Spending\")\n",
    "    plt.ylabel(\"Customer Type (Repeat/One-Time)\")\n",
    "    plt.legend(title=\"Cluster\")\n",
    "    plt.show()\n",
    "else:\n",
    "    print(\"Cluster labels are not assigned yet. Please run clustering first.\")\n"
   ]
  },
  {
   "cell_type": "code",
   "execution_count": 143,
   "id": "82416199-2f33-443a-9108-b1f52f4bcece",
   "metadata": {},
   "outputs": [
    {
     "data": {
      "image/png": "[encoded data removed]",
      "text/plain": [
       "<Figure size 640x480 with 1 Axes>"
      ]
     },
     "metadata": {},
     "output_type": "display_data"
    }
   ],
   "source": [
    "import seaborn as sns\n",
    "import matplotlib.pyplot as plt\n",
    "\n",
    "# Visualize clusters with total_spending and Customer Type (Repeat/One-Time)\n",
    "sns.scatterplot(x=df['total_spending'], y=df['Customer Type_Repeat'], hue=df['cluster'], palette=\"viridis\")\n",
    "plt.title(\"Customer Segmentation\")\n",
    "plt.xlabel(\"Total Spending\")\n",
    "plt.ylabel(\"Customer Type (Repeat/One-Time)\")\n",
    "plt.legend(title=\"Cluster\")\n",
    "plt.show()\n",
    "\n"
   ]
  },
  {
   "cell_type": "code",
   "execution_count": 144,
   "id": "637bed3c",
   "metadata": {},
   "outputs": [
    {
     "name": "stdout",
     "output_type": "stream",
     "text": [
      "feature1                  int64\n",
      "feature2                  int64\n",
      "cluster                   int32\n",
      "pca1                    float64\n",
      "pca2                    float64\n",
      "tsne1                   float32\n",
      "tsne2                   float32\n",
      "total_spending          float64\n",
      "revenue                   int64\n",
      "cost                      int64\n",
      "Customer Type_Repeat       bool\n",
      "Profit                    int64\n",
      "Profit_Margin           float64\n",
      "dtype: object\n"
     ]
    }
   ],
   "source": [
    "print(df.dtypes)\n"
   ]
  },
  {
   "cell_type": "code",
   "execution_count": 146,
   "id": "8c1b61c5",
   "metadata": {},
   "outputs": [
    {
     "name": "stdout",
     "output_type": "stream",
     "text": [
      "         feature1  feature2        pca1       pca2       tsne1       tsne2  \\\n",
      "cluster                                                                      \n",
      "0             5.0       1.0 -519.953073 -87.118311   11.318850 -126.857300   \n",
      "1             2.0       4.0  114.856814  62.058849   -5.598022   97.634033   \n",
      "2             4.0       2.0  175.382629 -99.058236  115.820618   -5.684708   \n",
      "\n",
      "         total_spending  revenue  cost  Profit  Profit_Margin  \n",
      "cluster                                                        \n",
      "0           -320.130069      0.0   0.0     0.0            0.0  \n",
      "1            291.865392      0.0   0.0     0.0            0.0  \n",
      "2            356.650369      0.0   0.0     0.0            0.0  \n"
     ]
    }
   ],
   "source": [
    "# Drop non-numeric columns\n",
    "df_numeric = df.select_dtypes(include='number')\n",
    "\n",
    "# Group by 'cluster' and calculate the mean of numeric columns only\n",
    "cluster_means = df_numeric.groupby('cluster').mean()\n",
    "\n",
    "print(cluster_means)\n"
   ]
  },
  {
   "cell_type": "code",
   "execution_count": 147,
   "id": "6c5aa107",
   "metadata": {},
   "outputs": [
    {
     "name": "stdout",
     "output_type": "stream",
     "text": [
      "         feature1  feature2        pca1       pca2       tsne1       tsne2  \\\n",
      "cluster                                                                      \n",
      "0             5.0       1.0 -519.953073 -87.118311   11.318850 -126.857300   \n",
      "1             2.0       4.0  114.856814  62.058849   -5.598022   97.634033   \n",
      "2             4.0       2.0  175.382629 -99.058236  115.820618   -5.684708   \n",
      "\n",
      "         total_spending  revenue  cost  Customer Type_Repeat  Profit  \\\n",
      "cluster                                                                \n",
      "0           -320.130069      0.0   0.0              1.000000     0.0   \n",
      "1            291.865392      0.0   0.0              0.666667     0.0   \n",
      "2            356.650369      0.0   0.0              1.000000     0.0   \n",
      "\n",
      "         Profit_Margin  \n",
      "cluster                 \n",
      "0                  0.0  \n",
      "1                  0.0  \n",
      "2                  0.0  \n"
     ]
    }
   ],
   "source": [
    "df_dropped = df.drop(columns=['Gender'], errors='ignore')  # Drop 'Gender' if it exists\n",
    "cluster_means = df_dropped.groupby('cluster').mean()\n",
    "print(cluster_means)\n",
    "\n"
   ]
  },
  {
   "cell_type": "code",
   "execution_count": 148,
   "id": "7efdc766-e6b8-4b46-99c7-d1f3f1e2c0a2",
   "metadata": {
    "scrolled": true
   },
   "outputs": [
    {
     "name": "stdout",
     "output_type": "stream",
     "text": [
      "         feature1  feature2  cluster        pca1       pca2       tsne1  \\\n",
      "cluster                                                                   \n",
      "0             5.0       1.0      0.0 -519.953073 -87.118311   11.318850   \n",
      "1             2.0       4.0      1.0  114.856814  62.058849   -5.598022   \n",
      "2             4.0       2.0      2.0  175.382629 -99.058236  115.820618   \n",
      "\n",
      "              tsne2  total_spending  revenue  cost  Profit  Profit_Margin  \n",
      "cluster                                                                    \n",
      "0       -126.857300     -320.130069      0.0   0.0     0.0            0.0  \n",
      "1         97.634033      291.865392      0.0   0.0     0.0            0.0  \n",
      "2         -5.684708      356.650369      0.0   0.0     0.0            0.0  \n"
     ]
    }
   ],
   "source": [
    "# Separate numeric and non-numeric columns\n",
    "numeric_columns = df.select_dtypes(include=['number']).columns\n",
    "df_numeric = df[numeric_columns]\n",
    "\n",
    "# Perform the groupby operation on numeric columns only\n",
    "cluster_means = df_numeric.groupby(df['cluster']).mean()\n",
    "\n",
    "print(cluster_means)\n",
    "\n"
   ]
  },
  {
   "cell_type": "code",
   "execution_count": 149,
   "id": "821cf12e-6fed-4dd7-96e3-606313915f0d",
   "metadata": {},
   "outputs": [
    {
     "name": "stdout",
     "output_type": "stream",
     "text": [
      "  cluster feature1                feature2                cluster  ... cost  \\\n",
      "              mean median max min     mean median max min     sum  ...  min   \n",
      "0       0      5.0    5.0   5   5      1.0    1.0   1   1       0  ...    0   \n",
      "1       1      2.0    2.0   3   1      4.0    4.0   5   3       3  ...    0   \n",
      "2       2      4.0    4.0   4   4      2.0    2.0   2   2       2  ...    0   \n",
      "\n",
      "  Customer Type_Repeat Profit                Profit_Margin                   \n",
      "                   sum   mean median max min          mean median  max  min  \n",
      "0                    1    0.0    0.0   0   0           0.0    0.0  0.0  0.0  \n",
      "1                    2    0.0    0.0   0   0           0.0    0.0  0.0  0.0  \n",
      "2                    1    0.0    0.0   0   0           0.0    0.0  0.0  0.0  \n",
      "\n",
      "[3 rows x 41 columns]\n"
     ]
    }
   ],
   "source": [
    "# Define the aggregation rules for numeric columns only\n",
    "agg_rules = {col: ['mean', 'median', 'max', 'min'] if df[col].dtype in ['float64', 'int64'] else ['sum'] for col in df.columns}\n",
    "\n",
    "# Group by cluster and apply the aggregation rules\n",
    "cluster_summary = df.groupby('cluster').agg(agg_rules).reset_index()\n",
    "\n",
    "# Display the result\n",
    "print(cluster_summary)\n"
   ]
  },
  {
   "cell_type": "code",
   "execution_count": 151,
   "id": "13686f9d-7ce0-420e-a034-d65beba1f5b2",
   "metadata": {},
   "outputs": [
    {
     "data": {
      "image/png": "[encoded data removed]",
      "text/plain": [
       "<Figure size 640x480 with 1 Axes>"
      ]
     },
     "metadata": {},
     "output_type": "display_data"
    }
   ],
   "source": [
    "import seaborn as sns\n",
    "import matplotlib.pyplot as plt\n",
    "\n",
    "# Scatter plot: total_spending vs Customer Type\n",
    "sns.scatterplot(x=df['total_spending'], y=df['Customer Type_Repeat'], hue=df['cluster'], palette=\"coolwarm\")\n",
    "plt.title(\"Customer Segmentation Based on Total Spending & Customer Type\")\n",
    "plt.show()  # Visualization of Customer Segments\n"
   ]
  },
  {
   "cell_type": "markdown",
   "id": "337076a2-5cb8-40b2-8bc4-79c2cada43e1",
   "metadata": {},
   "source": [
    "# 📊 Model Evaluation & Business Insights for Customer Segmentation"
   ]
  },
  {
   "cell_type": "markdown",
   "id": "5b88276a-f6dc-485b-8e67-8a074359422b",
   "metadata": {},
   "source": [
    "## Model Evaluation"
   ]
  },
  {
   "cell_type": "code",
   "execution_count": 153,
   "id": "fea374bd",
   "metadata": {},
   "outputs": [
    {
     "name": "stdout",
     "output_type": "stream",
     "text": [
      "Silhouette Score: -0.402\n"
     ]
    }
   ],
   "source": [
    "from sklearn.metrics import silhouette_score\n",
    "\n",
    "# Ensure the cluster column is numeric (if it's categorical)\n",
    "# Example: Convert 'M' and 'F' to 0 and 1 if needed\n",
    "df['cluster'] = df['cluster'].astype('category').cat.codes\n",
    "\n",
    "# Use the numeric columns of the DataFrame (excluding 'cluster') for silhouette score calculation\n",
    "df_numeric = df.select_dtypes(include=['float64', 'int64'])\n",
    "\n",
    "# Calculate silhouette score\n",
    "silhouette_avg = silhouette_score(df_numeric, df['cluster'])\n",
    "print(f'Silhouette Score: {silhouette_avg:.3f}')\n"
   ]
  },
  {
   "cell_type": "code",
   "execution_count": 154,
   "id": "91520fe3",
   "metadata": {},
   "outputs": [
    {
     "name": "stdout",
     "output_type": "stream",
     "text": [
      "         pca1        pca2\n",
      "0 -703.002320  110.397876\n",
      "1  211.750336  166.739208\n",
      "2  978.548012  -13.843133\n",
      "3  248.028549 -140.089516\n",
      "4 -735.324577 -123.204435\n"
     ]
    }
   ],
   "source": [
    "from sklearn.decomposition import PCA\n",
    "from sklearn.preprocessing import LabelEncoder\n",
    "\n",
    "# Assuming df['cluster'] is categorical, convert it to numeric codes if needed\n",
    "df['cluster'] = df['cluster'].astype('category').cat.codes\n",
    "\n",
    "# Identify categorical columns and convert them to numeric if necessary\n",
    "categorical_columns = df.select_dtypes(include=['object']).columns\n",
    "\n",
    "# Convert categorical columns to numeric using Label Encoding\n",
    "le = LabelEncoder()\n",
    "for col in categorical_columns:\n",
    "    df[col] = le.fit_transform(df[col])\n",
    "\n",
    "# Now apply PCA to the numeric data only\n",
    "pca = PCA(n_components=2)\n",
    "df_numeric = df.drop(columns=['cluster'])  # drop the target column if necessary\n",
    "pca_result = pca.fit_transform(df_numeric)\n",
    "\n",
    "# Add PCA components back to the DataFrame\n",
    "df['pca1'], df['pca2'] = pca_result[:, 0], pca_result[:, 1]\n",
    "\n",
    "print(df[['pca1', 'pca2']].head())\n"
   ]
  },
  {
   "cell_type": "code",
   "execution_count": 155,
   "id": "72298343-8d0e-4d8c-9ee0-becf32f24b99",
   "metadata": {},
   "outputs": [
    {
     "data": {
      "image/png": "[encoded data removed]",
      "text/plain": [
       "<Figure size 1000x600 with 1 Axes>"
      ]
     },
     "metadata": {},
     "output_type": "display_data"
    }
   ],
   "source": [
    "\n",
    "\n",
    "# Visualizing Customer Segments in 2D Space\n",
    "plt.figure(figsize=(10, 6))\n",
    "sns.scatterplot(x=df['pca1'], y=df['pca2'], hue=df['cluster'], palette=\"Set2\", alpha=0.7)\n",
    "plt.title(\"Customer Segments in 2D Space (PCA Reduced)\")\n",
    "plt.xlabel(\"Principal Component 1\")\n",
    "plt.ylabel(\"Principal Component 2\")\n",
    "plt.legend(title=\"Cluster\")\n",
    "plt.show()\n",
    "\n"
   ]
  },
  {
   "cell_type": "code",
   "execution_count": 156,
   "id": "68fdce8a-60f2-4ad4-b1fd-6ac139289c02",
   "metadata": {},
   "outputs": [
    {
     "data": {
      "image/png": "[encoded data removed]",
      "text/plain": [
       "<Figure size 640x480 with 1 Axes>"
      ]
     },
     "metadata": {},
     "output_type": "display_data"
    }
   ],
   "source": [
    "df['cluster'].value_counts().plot(kind=\"bar\", color=\"teal\")\n",
    "plt.title(\"Customer Count Per Cluster\")\n",
    "plt.xlabel(\"Cluster\")\n",
    "plt.ylabel(\"Number of Customers\")\n",
    "plt.show()\n",
    "#Evaluating Cluster Distribution"
   ]
  },
  {
   "cell_type": "code",
   "execution_count": 164,
   "id": "c393ac0c-221f-4785-93af-c54a8ea18629",
   "metadata": {},
   "outputs": [
    {
     "name": "stdout",
     "output_type": "stream",
     "text": [
      "Number of samples: 5\n"
     ]
    },
    {
     "data": {
      "image/png": "[encoded data removed]",
      "text/plain": [
       "<Figure size 1000x600 with 1 Axes>"
      ]
     },
     "metadata": {},
     "output_type": "display_data"
    }
   ],
   "source": [
    "from sklearn.manifold import TSNE\n",
    "\n",
    "# Check the number of samples (rows) in your dataframe\n",
    "n_samples = df.shape[0]\n",
    "print(f\"Number of samples: {n_samples}\")\n",
    "\n",
    "# Initialize TSNE with a smaller perplexity if necessary\n",
    "tsne = TSNE(n_components=2, perplexity=min(30, n_samples - 1), random_state=42)\n",
    "\n",
    "# Perform t-SNE transformation\n",
    "df['tsne1'], df['tsne2'] = tsne.fit_transform(df.drop(columns=['cluster'])).T\n",
    "\n",
    "# Plotting the t-SNE results\n",
    "plt.figure(figsize=(10, 6))\n",
    "sns.scatterplot(x=df['tsne1'], y=df['tsne2'], hue=df['cluster'], palette=\"Set2\")\n",
    "plt.title(\"Customer Segments in 2D Space (t-SNE)\")\n",
    "plt.show()\n"
   ]
  },
  {
   "cell_type": "code",
   "execution_count": 159,
   "id": "3775b23b",
   "metadata": {},
   "outputs": [
    {
     "data": {
      "application/vnd.plotly.v1+json": {
       "config": {
        "plotlyServerURL": "https://plot.ly"
       },
       "data": [
        {
         "hovertemplate": "feature1=%{x}<br>feature2=%{y}<extra></extra>",
         "legendgroup": "",
         "marker": {
          "color": "#636efa",
          "symbol": "circle"
         },
         "mode": "markers",
         "name": "",
         "orientation": "v",
         "showlegend": false,
         "type": "scatter",
         "x": {
          "bdata": "AQIDBAU=",
          "dtype": "i1"
         },
         "xaxis": "x",
         "y": {
          "bdata": "BQQDAgE=",
          "dtype": "i1"
         },
         "yaxis": "y"
        }
       ],
       "layout": {
        "legend": {
         "tracegroupgap": 0
        },
        "template": {
         "data": {
          "bar": [
           {
            "error_x": {
             "color": "#2a3f5f"
            },
            "error_y": {
             "color": "#2a3f5f"
            },
            "marker": {
             "line": {
              "color": "#E5ECF6",
              "width": 0.5
             },
             "pattern": {
              "fillmode": "overlay",
              "size": 10,
              "solidity": 0.2
             }
            },
            "type": "bar"
           }
          ],
          "barpolar": [
           {
            "marker": {
             "line": {
              "color": "#E5ECF6",
              "width": 0.5
             },
             "pattern": {
              "fillmode": "overlay",
              "size": 10,
              "solidity": 0.2
             }
            },
            "type": "barpolar"
           }
          ],
          "carpet": [
           {
            "aaxis": {
             "endlinecolor": "#2a3f5f",
             "gridcolor": "white",
             "linecolor": "white",
             "minorgridcolor": "white",
             "startlinecolor": "#2a3f5f"
            },
            "baxis": {
             "endlinecolor": "#2a3f5f",
             "gridcolor": "white",
             "linecolor": "white",
             "minorgridcolor": "white",
             "startlinecolor": "#2a3f5f"
            },
            "type": "carpet"
           }
          ],
          "choropleth": [
           {
            "colorbar": {
             "outlinewidth": 0,
             "ticks": ""
            },
            "type": "choropleth"
           }
          ],
          "contour": [
           {
            "colorbar": {
             "outlinewidth": 0,
             "ticks": ""
            },
            "colorscale": [
             [
              0,
              "#0d0887"
             ],
             [
              0.1111111111111111,
              "#46039f"
             ],
             [
              0.2222222222222222,
              "#7201a8"
             ],
             [
              0.3333333333333333,
              "#9c179e"
             ],
             [
              0.4444444444444444,
              "#bd3786"
             ],
             [
              0.5555555555555556,
              "#d8576b"
             ],
             [
              0.6666666666666666,
              "#ed7953"
             ],
             [
              0.7777777777777778,
              "#fb9f3a"
             ],
             [
              0.8888888888888888,
              "#fdca26"
             ],
             [
              1,
              "#f0f921"
             ]
            ],
            "type": "contour"
           }
          ],
          "contourcarpet": [
           {
            "colorbar": {
             "outlinewidth": 0,
             "ticks": ""
            },
            "type": "contourcarpet"
           }
          ],
          "heatmap": [
           {
            "colorbar": {
             "outlinewidth": 0,
             "ticks": ""
            },
            "colorscale": [
             [
              0,
              "#0d0887"
             ],
             [
              0.1111111111111111,
              "#46039f"
             ],
             [
              0.2222222222222222,
              "#7201a8"
             ],
             [
              0.3333333333333333,
              "#9c179e"
             ],
             [
              0.4444444444444444,
              "#bd3786"
             ],
             [
              0.5555555555555556,
              "#d8576b"
             ],
             [
              0.6666666666666666,
              "#ed7953"
             ],
             [
              0.7777777777777778,
              "#fb9f3a"
             ],
             [
              0.8888888888888888,
              "#fdca26"
             ],
             [
              1,
              "#f0f921"
             ]
            ],
            "type": "heatmap"
           }
          ],
          "histogram": [
           {
            "marker": {
             "pattern": {
              "fillmode": "overlay",
              "size": 10,
              "solidity": 0.2
             }
            },
            "type": "histogram"
           }
          ],
          "histogram2d": [
           {
            "colorbar": {
             "outlinewidth": 0,
             "ticks": ""
            },
            "colorscale": [
             [
              0,
              "#0d0887"
             ],
             [
              0.1111111111111111,
              "#46039f"
             ],
             [
              0.2222222222222222,
              "#7201a8"
             ],
             [
              0.3333333333333333,
              "#9c179e"
             ],
             [
              0.4444444444444444,
              "#bd3786"
             ],
             [
              0.5555555555555556,
              "#d8576b"
             ],
             [
              0.6666666666666666,
              "#ed7953"
             ],
             [
              0.7777777777777778,
              "#fb9f3a"
             ],
             [
              0.8888888888888888,
              "#fdca26"
             ],
             [
              1,
              "#f0f921"
             ]
            ],
            "type": "histogram2d"
           }
          ],
          "histogram2dcontour": [
           {
            "colorbar": {
             "outlinewidth": 0,
             "ticks": ""
            },
            "colorscale": [
             [
              0,
              "#0d0887"
             ],
             [
              0.1111111111111111,
              "#46039f"
             ],
             [
              0.2222222222222222,
              "#7201a8"
             ],
             [
              0.3333333333333333,
              "#9c179e"
             ],
             [
              0.4444444444444444,
              "#bd3786"
             ],
             [
              0.5555555555555556,
              "#d8576b"
             ],
             [
              0.6666666666666666,
              "#ed7953"
             ],
             [
              0.7777777777777778,
              "#fb9f3a"
             ],
             [
              0.8888888888888888,
              "#fdca26"
             ],
             [
              1,
              "#f0f921"
             ]
            ],
            "type": "histogram2dcontour"
           }
          ],
          "mesh3d": [
           {
            "colorbar": {
             "outlinewidth": 0,
             "ticks": ""
            },
            "type": "mesh3d"
           }
          ],
          "parcoords": [
           {
            "line": {
             "colorbar": {
              "outlinewidth": 0,
              "ticks": ""
             }
            },
            "type": "parcoords"
           }
          ],
          "pie": [
           {
            "automargin": true,
            "type": "pie"
           }
          ],
          "scatter": [
           {
            "fillpattern": {
             "fillmode": "overlay",
             "size": 10,
             "solidity": 0.2
            },
            "type": "scatter"
           }
          ],
          "scatter3d": [
           {
            "line": {
             "colorbar": {
              "outlinewidth": 0,
              "ticks": ""
             }
            },
            "marker": {
             "colorbar": {
              "outlinewidth": 0,
              "ticks": ""
             }
            },
            "type": "scatter3d"
           }
          ],
          "scattercarpet": [
           {
            "marker": {
             "colorbar": {
              "outlinewidth": 0,
              "ticks": ""
             }
            },
            "type": "scattercarpet"
           }
          ],
          "scattergeo": [
           {
            "marker": {
             "colorbar": {
              "outlinewidth": 0,
              "ticks": ""
             }
            },
            "type": "scattergeo"
           }
          ],
          "scattergl": [
           {
            "marker": {
             "colorbar": {
              "outlinewidth": 0,
              "ticks": ""
             }
            },
            "type": "scattergl"
           }
          ],
          "scattermap": [
           {
            "marker": {
             "colorbar": {
              "outlinewidth": 0,
              "ticks": ""
             }
            },
            "type": "scattermap"
           }
          ],
          "scattermapbox": [
           {
            "marker": {
             "colorbar": {
              "outlinewidth": 0,
              "ticks": ""
             }
            },
            "type": "scattermapbox"
           }
          ],
          "scatterpolar": [
           {
            "marker": {
             "colorbar": {
              "outlinewidth": 0,
              "ticks": ""
             }
            },
            "type": "scatterpolar"
           }
          ],
          "scatterpolargl": [
           {
            "marker": {
             "colorbar": {
              "outlinewidth": 0,
              "ticks": ""
             }
            },
            "type": "scatterpolargl"
           }
          ],
          "scatterternary": [
           {
            "marker": {
             "colorbar": {
              "outlinewidth": 0,
              "ticks": ""
             }
            },
            "type": "scatterternary"
           }
          ],
          "surface": [
           {
            "colorbar": {
             "outlinewidth": 0,
             "ticks": ""
            },
            "colorscale": [
             [
              0,
              "#0d0887"
             ],
             [
              0.1111111111111111,
              "#46039f"
             ],
             [
              0.2222222222222222,
              "#7201a8"
             ],
             [
              0.3333333333333333,
              "#9c179e"
             ],
             [
              0.4444444444444444,
              "#bd3786"
             ],
             [
              0.5555555555555556,
              "#d8576b"
             ],
             [
              0.6666666666666666,
              "#ed7953"
             ],
             [
              0.7777777777777778,
              "#fb9f3a"
             ],
             [
              0.8888888888888888,
              "#fdca26"
             ],
             [
              1,
              "#f0f921"
             ]
            ],
            "type": "surface"
           }
          ],
          "table": [
           {
            "cells": {
             "fill": {
              "color": "#EBF0F8"
             },
             "line": {
              "color": "white"
             }
            },
            "header": {
             "fill": {
              "color": "#C8D4E3"
             },
             "line": {
              "color": "white"
             }
            },
            "type": "table"
           }
          ]
         },
         "layout": {
          "annotationdefaults": {
           "arrowcolor": "#2a3f5f",
           "arrowhead": 0,
           "arrowwidth": 1
          },
          "autotypenumbers": "strict",
          "coloraxis": {
           "colorbar": {
            "outlinewidth": 0,
            "ticks": ""
           }
          },
          "colorscale": {
           "diverging": [
            [
             0,
             "#8e0152"
            ],
            [
             0.1,
             "#c51b7d"
            ],
            [
             0.2,
             "#de77ae"
            ],
            [
             0.3,
             "#f1b6da"
            ],
            [
             0.4,
             "#fde0ef"
            ],
            [
             0.5,
             "#f7f7f7"
            ],
            [
             0.6,
             "#e6f5d0"
            ],
            [
             0.7,
             "#b8e186"
            ],
            [
             0.8,
             "#7fbc41"
            ],
            [
             0.9,
             "#4d9221"
            ],
            [
             1,
             "#276419"
            ]
           ],
           "sequential": [
            [
             0,
             "#0d0887"
            ],
            [
             0.1111111111111111,
             "#46039f"
            ],
            [
             0.2222222222222222,
             "#7201a8"
            ],
            [
             0.3333333333333333,
             "#9c179e"
            ],
            [
             0.4444444444444444,
             "#bd3786"
            ],
            [
             0.5555555555555556,
             "#d8576b"
            ],
            [
             0.6666666666666666,
             "#ed7953"
            ],
            [
             0.7777777777777778,
             "#fb9f3a"
            ],
            [
             0.8888888888888888,
             "#fdca26"
            ],
            [
             1,
             "#f0f921"
            ]
           ],
           "sequentialminus": [
            [
             0,
             "#0d0887"
            ],
            [
             0.1111111111111111,
             "#46039f"
            ],
            [
             0.2222222222222222,
             "#7201a8"
            ],
            [
             0.3333333333333333,
             "#9c179e"
            ],
            [
             0.4444444444444444,
             "#bd3786"
            ],
            [
             0.5555555555555556,
             "#d8576b"
            ],
            [
             0.6666666666666666,
             "#ed7953"
            ],
            [
             0.7777777777777778,
             "#fb9f3a"
            ],
            [
             0.8888888888888888,
             "#fdca26"
            ],
            [
             1,
             "#f0f921"
            ]
           ]
          },
          "colorway": [
           "#636efa",
           "#EF553B",
           "#00cc96",
           "#ab63fa",
           "#FFA15A",
           "#19d3f3",
           "#FF6692",
           "#B6E880",
           "#FF97FF",
           "#FECB52"
          ],
          "font": {
           "color": "#2a3f5f"
          },
          "geo": {
           "bgcolor": "white",
           "lakecolor": "white",
           "landcolor": "#E5ECF6",
           "showlakes": true,
           "showland": true,
           "subunitcolor": "white"
          },
          "hoverlabel": {
           "align": "left"
          },
          "hovermode": "closest",
          "mapbox": {
           "style": "light"
          },
          "paper_bgcolor": "white",
          "plot_bgcolor": "#E5ECF6",
          "polar": {
           "angularaxis": {
            "gridcolor": "white",
            "linecolor": "white",
            "ticks": ""
           },
           "bgcolor": "#E5ECF6",
           "radialaxis": {
            "gridcolor": "white",
            "linecolor": "white",
            "ticks": ""
           }
          },
          "scene": {
           "xaxis": {
            "backgroundcolor": "#E5ECF6",
            "gridcolor": "white",
            "gridwidth": 2,
            "linecolor": "white",
            "showbackground": true,
            "ticks": "",
            "zerolinecolor": "white"
           },
           "yaxis": {
            "backgroundcolor": "#E5ECF6",
            "gridcolor": "white",
            "gridwidth": 2,
            "linecolor": "white",
            "showbackground": true,
            "ticks": "",
            "zerolinecolor": "white"
           },
           "zaxis": {
            "backgroundcolor": "#E5ECF6",
            "gridcolor": "white",
            "gridwidth": 2,
            "linecolor": "white",
            "showbackground": true,
            "ticks": "",
            "zerolinecolor": "white"
           }
          },
          "shapedefaults": {
           "line": {
            "color": "#2a3f5f"
           }
          },
          "ternary": {
           "aaxis": {
            "gridcolor": "white",
            "linecolor": "white",
            "ticks": ""
           },
           "baxis": {
            "gridcolor": "white",
            "linecolor": "white",
            "ticks": ""
           },
           "bgcolor": "#E5ECF6",
           "caxis": {
            "gridcolor": "white",
            "linecolor": "white",
            "ticks": ""
           }
          },
          "title": {
           "x": 0.05
          },
          "xaxis": {
           "automargin": true,
           "gridcolor": "white",
           "linecolor": "white",
           "ticks": "",
           "title": {
            "standoff": 15
           },
           "zerolinecolor": "white",
           "zerolinewidth": 2
          },
          "yaxis": {
           "automargin": true,
           "gridcolor": "white",
           "linecolor": "white",
           "ticks": "",
           "title": {
            "standoff": 15
           },
           "zerolinecolor": "white",
           "zerolinewidth": 2
          }
         }
        },
        "title": {
         "text": "Simple Scatter Plot"
        },
        "xaxis": {
         "anchor": "y",
         "domain": [
          0,
          1
         ],
         "title": {
          "text": "feature1"
         }
        },
        "yaxis": {
         "anchor": "x",
         "domain": [
          0,
          1
         ],
         "title": {
          "text": "feature2"
         }
        }
       }
      }
     },
     "metadata": {},
     "output_type": "display_data"
    }
   ],
   "source": [
    "import plotly.express as px\n",
    "import pandas as pd\n",
    "\n",
    "# Create a simple dataframe\n",
    "df = pd.DataFrame({\n",
    "    'feature1': [1, 2, 3, 4, 5],\n",
    "    'feature2': [5, 4, 3, 2, 1]\n",
    "})\n",
    "\n",
    "# Plotly scatter plot\n",
    "fig = px.scatter(df, x='feature1', y='feature2', title=\"Simple Scatter Plot\")\n",
    "fig.show()\n"
   ]
  },
  {
   "cell_type": "code",
   "execution_count": 160,
   "id": "b4905f33",
   "metadata": {},
   "outputs": [
    {
     "name": "stdout",
     "output_type": "stream",
     "text": [
      "   feature1  feature2  cluster\n",
      "0         1         5        2\n",
      "1         2         4        1\n",
      "2         3         3        0\n",
      "3         4         2        0\n",
      "4         5         1        0\n"
     ]
    }
   ],
   "source": [
    " # Add cluster labels to the DataFrame\n",
    "from sklearn.cluster import KMeans\n",
    "\n",
    "# Assuming 'feature1' and 'feature2' are the columns you want to cluster\n",
    "X = df[['feature1', 'feature2']]\n",
    "\n",
    "# Apply KMeans clustering (you can adjust n_clusters as needed)\n",
    "kmeans = KMeans(n_clusters=3)  # Choose the number of clusters\n",
    "cluster_labels = kmeans.fit_predict(X)\n",
    "\n",
    "# Add the cluster labels to your DataFrame\n",
    "df['cluster'] = cluster_labels\n",
    "\n",
    "# Check the updated DataFrame\n",
    "print(df.head())\n",
    "import warnings\n",
    "warnings.filterwarnings('ignore', category=UserWarning, message=\".*Could not find the number of physical cores.*\")\n",
    "\n"
   ]
  },
  {
   "cell_type": "code",
   "execution_count": 167,
   "id": "c1db5c96",
   "metadata": {},
   "outputs": [
    {
     "data": {
      "application/vnd.plotly.v1+json": {
       "config": {
        "plotlyServerURL": "https://plot.ly"
       },
       "data": [
        {
         "hovertemplate": "Principal Component 1=%{x}<br>Principal Component 2=%{y}<br>cluster=%{marker.color}<extra></extra>",
         "legendgroup": "",
         "marker": {
          "color": {
           "bdata": "AgAAAAEAAAAAAAAAAAAAAAAAAAA=",
           "dtype": "i4"
          },
          "coloraxis": "coloraxis",
          "symbol": "circle"
         },
         "mode": "markers",
         "name": "",
         "orientation": "v",
         "showlegend": false,
         "type": "scatter",
         "x": {
          "bdata": "zTt/Zp6gBsDMO39mnqD2vwAAAAAAAAAAzDt/Zp6g9j/MO39mnqAGQA==",
          "dtype": "f8"
         },
         "xaxis": "x",
         "y": {
          "bdata": "3/pLTQAytbzWo7oRq0KcPAAAAAAAAACA1KO6EatCnLzUo7oRq0KsvA==",
          "dtype": "f8"
         },
         "yaxis": "y"
        }
       ],
       "layout": {
        "coloraxis": {
         "colorbar": {
          "title": {
           "text": "cluster"
          }
         },
         "colorscale": [
          [
           0,
           "#0d0887"
          ],
          [
           0.1111111111111111,
           "#46039f"
          ],
          [
           0.2222222222222222,
           "#7201a8"
          ],
          [
           0.3333333333333333,
           "#9c179e"
          ],
          [
           0.4444444444444444,
           "#bd3786"
          ],
          [
           0.5555555555555556,
           "#d8576b"
          ],
          [
           0.6666666666666666,
           "#ed7953"
          ],
          [
           0.7777777777777778,
           "#fb9f3a"
          ],
          [
           0.8888888888888888,
           "#fdca26"
          ],
          [
           1,
           "#f0f921"
          ]
         ]
        },
        "legend": {
         "tracegroupgap": 0
        },
        "template": {
         "data": {
          "bar": [
           {
            "error_x": {
             "color": "#2a3f5f"
            },
            "error_y": {
             "color": "#2a3f5f"
            },
            "marker": {
             "line": {
              "color": "#E5ECF6",
              "width": 0.5
             },
             "pattern": {
              "fillmode": "overlay",
              "size": 10,
              "solidity": 0.2
             }
            },
            "type": "bar"
           }
          ],
          "barpolar": [
           {
            "marker": {
             "line": {
              "color": "#E5ECF6",
              "width": 0.5
             },
             "pattern": {
              "fillmode": "overlay",
              "size": 10,
              "solidity": 0.2
             }
            },
            "type": "barpolar"
           }
          ],
          "carpet": [
           {
            "aaxis": {
             "endlinecolor": "#2a3f5f",
             "gridcolor": "white",
             "linecolor": "white",
             "minorgridcolor": "white",
             "startlinecolor": "#2a3f5f"
            },
            "baxis": {
             "endlinecolor": "#2a3f5f",
             "gridcolor": "white",
             "linecolor": "white",
             "minorgridcolor": "white",
             "startlinecolor": "#2a3f5f"
            },
            "type": "carpet"
           }
          ],
          "choropleth": [
           {
            "colorbar": {
             "outlinewidth": 0,
             "ticks": ""
            },
            "type": "choropleth"
           }
          ],
          "contour": [
           {
            "colorbar": {
             "outlinewidth": 0,
             "ticks": ""
            },
            "colorscale": [
             [
              0,
              "#0d0887"
             ],
             [
              0.1111111111111111,
              "#46039f"
             ],
             [
              0.2222222222222222,
              "#7201a8"
             ],
             [
              0.3333333333333333,
              "#9c179e"
             ],
             [
              0.4444444444444444,
              "#bd3786"
             ],
             [
              0.5555555555555556,
              "#d8576b"
             ],
             [
              0.6666666666666666,
              "#ed7953"
             ],
             [
              0.7777777777777778,
              "#fb9f3a"
             ],
             [
              0.8888888888888888,
              "#fdca26"
             ],
             [
              1,
              "#f0f921"
             ]
            ],
            "type": "contour"
           }
          ],
          "contourcarpet": [
           {
            "colorbar": {
             "outlinewidth": 0,
             "ticks": ""
            },
            "type": "contourcarpet"
           }
          ],
          "heatmap": [
           {
            "colorbar": {
             "outlinewidth": 0,
             "ticks": ""
            },
            "colorscale": [
             [
              0,
              "#0d0887"
             ],
             [
              0.1111111111111111,
              "#46039f"
             ],
             [
              0.2222222222222222,
              "#7201a8"
             ],
             [
              0.3333333333333333,
              "#9c179e"
             ],
             [
              0.4444444444444444,
              "#bd3786"
             ],
             [
              0.5555555555555556,
              "#d8576b"
             ],
             [
              0.6666666666666666,
              "#ed7953"
             ],
             [
              0.7777777777777778,
              "#fb9f3a"
             ],
             [
              0.8888888888888888,
              "#fdca26"
             ],
             [
              1,
              "#f0f921"
             ]
            ],
            "type": "heatmap"
           }
          ],
          "histogram": [
           {
            "marker": {
             "pattern": {
              "fillmode": "overlay",
              "size": 10,
              "solidity": 0.2
             }
            },
            "type": "histogram"
           }
          ],
          "histogram2d": [
           {
            "colorbar": {
             "outlinewidth": 0,
             "ticks": ""
            },
            "colorscale": [
             [
              0,
              "#0d0887"
             ],
             [
              0.1111111111111111,
              "#46039f"
             ],
             [
              0.2222222222222222,
              "#7201a8"
             ],
             [
              0.3333333333333333,
              "#9c179e"
             ],
             [
              0.4444444444444444,
              "#bd3786"
             ],
             [
              0.5555555555555556,
              "#d8576b"
             ],
             [
              0.6666666666666666,
              "#ed7953"
             ],
             [
              0.7777777777777778,
              "#fb9f3a"
             ],
             [
              0.8888888888888888,
              "#fdca26"
             ],
             [
              1,
              "#f0f921"
             ]
            ],
            "type": "histogram2d"
           }
          ],
          "histogram2dcontour": [
           {
            "colorbar": {
             "outlinewidth": 0,
             "ticks": ""
            },
            "colorscale": [
             [
              0,
              "#0d0887"
             ],
             [
              0.1111111111111111,
              "#46039f"
             ],
             [
              0.2222222222222222,
              "#7201a8"
             ],
             [
              0.3333333333333333,
              "#9c179e"
             ],
             [
              0.4444444444444444,
              "#bd3786"
             ],
             [
              0.5555555555555556,
              "#d8576b"
             ],
             [
              0.6666666666666666,
              "#ed7953"
             ],
             [
              0.7777777777777778,
              "#fb9f3a"
             ],
             [
              0.8888888888888888,
              "#fdca26"
             ],
             [
              1,
              "#f0f921"
             ]
            ],
            "type": "histogram2dcontour"
           }
          ],
          "mesh3d": [
           {
            "colorbar": {
             "outlinewidth": 0,
             "ticks": ""
            },
            "type": "mesh3d"
           }
          ],
          "parcoords": [
           {
            "line": {
             "colorbar": {
              "outlinewidth": 0,
              "ticks": ""
             }
            },
            "type": "parcoords"
           }
          ],
          "pie": [
           {
            "automargin": true,
            "type": "pie"
           }
          ],
          "scatter": [
           {
            "fillpattern": {
             "fillmode": "overlay",
             "size": 10,
             "solidity": 0.2
            },
            "type": "scatter"
           }
          ],
          "scatter3d": [
           {
            "line": {
             "colorbar": {
              "outlinewidth": 0,
              "ticks": ""
             }
            },
            "marker": {
             "colorbar": {
              "outlinewidth": 0,
              "ticks": ""
             }
            },
            "type": "scatter3d"
           }
          ],
          "scattercarpet": [
           {
            "marker": {
             "colorbar": {
              "outlinewidth": 0,
              "ticks": ""
             }
            },
            "type": "scattercarpet"
           }
          ],
          "scattergeo": [
           {
            "marker": {
             "colorbar": {
              "outlinewidth": 0,
              "ticks": ""
             }
            },
            "type": "scattergeo"
           }
          ],
          "scattergl": [
           {
            "marker": {
             "colorbar": {
              "outlinewidth": 0,
              "ticks": ""
             }
            },
            "type": "scattergl"
           }
          ],
          "scattermap": [
           {
            "marker": {
             "colorbar": {
              "outlinewidth": 0,
              "ticks": ""
             }
            },
            "type": "scattermap"
           }
          ],
          "scattermapbox": [
           {
            "marker": {
             "colorbar": {
              "outlinewidth": 0,
              "ticks": ""
             }
            },
            "type": "scattermapbox"
           }
          ],
          "scatterpolar": [
           {
            "marker": {
             "colorbar": {
              "outlinewidth": 0,
              "ticks": ""
             }
            },
            "type": "scatterpolar"
           }
          ],
          "scatterpolargl": [
           {
            "marker": {
             "colorbar": {
              "outlinewidth": 0,
              "ticks": ""
             }
            },
            "type": "scatterpolargl"
           }
          ],
          "scatterternary": [
           {
            "marker": {
             "colorbar": {
              "outlinewidth": 0,
              "ticks": ""
             }
            },
            "type": "scatterternary"
           }
          ],
          "surface": [
           {
            "colorbar": {
             "outlinewidth": 0,
             "ticks": ""
            },
            "colorscale": [
             [
              0,
              "#0d0887"
             ],
             [
              0.1111111111111111,
              "#46039f"
             ],
             [
              0.2222222222222222,
              "#7201a8"
             ],
             [
              0.3333333333333333,
              "#9c179e"
             ],
             [
              0.4444444444444444,
              "#bd3786"
             ],
             [
              0.5555555555555556,
              "#d8576b"
             ],
             [
              0.6666666666666666,
              "#ed7953"
             ],
             [
              0.7777777777777778,
              "#fb9f3a"
             ],
             [
              0.8888888888888888,
              "#fdca26"
             ],
             [
              1,
              "#f0f921"
             ]
            ],
            "type": "surface"
           }
          ],
          "table": [
           {
            "cells": {
             "fill": {
              "color": "#EBF0F8"
             },
             "line": {
              "color": "white"
             }
            },
            "header": {
             "fill": {
              "color": "#C8D4E3"
             },
             "line": {
              "color": "white"
             }
            },
            "type": "table"
           }
          ]
         },
         "layout": {
          "annotationdefaults": {
           "arrowcolor": "#2a3f5f",
           "arrowhead": 0,
           "arrowwidth": 1
          },
          "autotypenumbers": "strict",
          "coloraxis": {
           "colorbar": {
            "outlinewidth": 0,
            "ticks": ""
           }
          },
          "colorscale": {
           "diverging": [
            [
             0,
             "#8e0152"
            ],
            [
             0.1,
             "#c51b7d"
            ],
            [
             0.2,
             "#de77ae"
            ],
            [
             0.3,
             "#f1b6da"
            ],
            [
             0.4,
             "#fde0ef"
            ],
            [
             0.5,
             "#f7f7f7"
            ],
            [
             0.6,
             "#e6f5d0"
            ],
            [
             0.7,
             "#b8e186"
            ],
            [
             0.8,
             "#7fbc41"
            ],
            [
             0.9,
             "#4d9221"
            ],
            [
             1,
             "#276419"
            ]
           ],
           "sequential": [
            [
             0,
             "#0d0887"
            ],
            [
             0.1111111111111111,
             "#46039f"
            ],
            [
             0.2222222222222222,
             "#7201a8"
            ],
            [
             0.3333333333333333,
             "#9c179e"
            ],
            [
             0.4444444444444444,
             "#bd3786"
            ],
            [
             0.5555555555555556,
             "#d8576b"
            ],
            [
             0.6666666666666666,
             "#ed7953"
            ],
            [
             0.7777777777777778,
             "#fb9f3a"
            ],
            [
             0.8888888888888888,
             "#fdca26"
            ],
            [
             1,
             "#f0f921"
            ]
           ],
           "sequentialminus": [
            [
             0,
             "#0d0887"
            ],
            [
             0.1111111111111111,
             "#46039f"
            ],
            [
             0.2222222222222222,
             "#7201a8"
            ],
            [
             0.3333333333333333,
             "#9c179e"
            ],
            [
             0.4444444444444444,
             "#bd3786"
            ],
            [
             0.5555555555555556,
             "#d8576b"
            ],
            [
             0.6666666666666666,
             "#ed7953"
            ],
            [
             0.7777777777777778,
             "#fb9f3a"
            ],
            [
             0.8888888888888888,
             "#fdca26"
            ],
            [
             1,
             "#f0f921"
            ]
           ]
          },
          "colorway": [
           "#636efa",
           "#EF553B",
           "#00cc96",
           "#ab63fa",
           "#FFA15A",
           "#19d3f3",
           "#FF6692",
           "#B6E880",
           "#FF97FF",
           "#FECB52"
          ],
          "font": {
           "color": "#2a3f5f"
          },
          "geo": {
           "bgcolor": "white",
           "lakecolor": "white",
           "landcolor": "#E5ECF6",
           "showlakes": true,
           "showland": true,
           "subunitcolor": "white"
          },
          "hoverlabel": {
           "align": "left"
          },
          "hovermode": "closest",
          "mapbox": {
           "style": "light"
          },
          "paper_bgcolor": "white",
          "plot_bgcolor": "#E5ECF6",
          "polar": {
           "angularaxis": {
            "gridcolor": "white",
            "linecolor": "white",
            "ticks": ""
           },
           "bgcolor": "#E5ECF6",
           "radialaxis": {
            "gridcolor": "white",
            "linecolor": "white",
            "ticks": ""
           }
          },
          "scene": {
           "xaxis": {
            "backgroundcolor": "#E5ECF6",
            "gridcolor": "white",
            "gridwidth": 2,
            "linecolor": "white",
            "showbackground": true,
            "ticks": "",
            "zerolinecolor": "white"
           },
           "yaxis": {
            "backgroundcolor": "#E5ECF6",
            "gridcolor": "white",
            "gridwidth": 2,
            "linecolor": "white",
            "showbackground": true,
            "ticks": "",
            "zerolinecolor": "white"
           },
           "zaxis": {
            "backgroundcolor": "#E5ECF6",
            "gridcolor": "white",
            "gridwidth": 2,
            "linecolor": "white",
            "showbackground": true,
            "ticks": "",
            "zerolinecolor": "white"
           }
          },
          "shapedefaults": {
           "line": {
            "color": "#2a3f5f"
           }
          },
          "ternary": {
           "aaxis": {
            "gridcolor": "white",
            "linecolor": "white",
            "ticks": ""
           },
           "baxis": {
            "gridcolor": "white",
            "linecolor": "white",
            "ticks": ""
           },
           "bgcolor": "#E5ECF6",
           "caxis": {
            "gridcolor": "white",
            "linecolor": "white",
            "ticks": ""
           }
          },
          "title": {
           "x": 0.05
          },
          "xaxis": {
           "automargin": true,
           "gridcolor": "white",
           "linecolor": "white",
           "ticks": "",
           "title": {
            "standoff": 15
           },
           "zerolinecolor": "white",
           "zerolinewidth": 2
          },
          "yaxis": {
           "automargin": true,
           "gridcolor": "white",
           "linecolor": "white",
           "ticks": "",
           "title": {
            "standoff": 15
           },
           "zerolinecolor": "white",
           "zerolinewidth": 2
          }
         }
        },
        "title": {
         "text": "Customer Segments in 2D Space (PCA)"
        },
        "xaxis": {
         "anchor": "y",
         "domain": [
          0,
          1
         ],
         "title": {
          "text": "Principal Component 1"
         }
        },
        "yaxis": {
         "anchor": "x",
         "domain": [
          0,
          1
         ],
         "title": {
          "text": "Principal Component 2"
         }
        }
       }
      }
     },
     "metadata": {},
     "output_type": "display_data"
    }
   ],
   "source": [
    "# Applying PCA\n",
    "from sklearn.decomposition import PCA\n",
    "\n",
    "# Create a PCA object and transform the features\n",
    "pca = PCA(n_components=2)\n",
    "pca_result = pca.fit_transform(df[['feature1', 'feature2']])\n",
    "\n",
    "# Assign the PCA components to new columns\n",
    "df['pca1'], df['pca2'] = pca_result[:, 0], pca_result[:, 1]\n",
    "\n",
    "# Visualize the result using Plotly\n",
    "import plotly.express as px\n",
    "fig = px.scatter(df, x='pca1', y='pca2', color='cluster',\n",
    "                 title=\"Customer Segments in 2D Space (PCA)\",\n",
    "                 labels={\"pca1\": \"Principal Component 1\", \"pca2\": \"Principal Component 2\"})\n",
    "fig.show()\n"
   ]
  },
  {
   "cell_type": "code",
   "execution_count": 168,
   "id": "b00b4f1d",
   "metadata": {},
   "outputs": [],
   "source": [
    "# Choose the number of components based on the smaller of the number of samples or features\n",
    "n_components = min(df.shape[0], df.drop(columns=['cluster']).shape[1])\n",
    "pca = PCA(n_components=n_components)\n",
    "pca_result = pca.fit_transform(df.drop(columns=['cluster']))  # Exclude 'cluster' column\n"
   ]
  },
  {
   "cell_type": "code",
   "execution_count": 169,
   "id": "9cc3567b",
   "metadata": {},
   "outputs": [
    {
     "data": {
      "application/vnd.plotly.v1+json": {
       "config": {
        "plotlyServerURL": "https://plot.ly"
       },
       "data": [
        {
         "customdata": {
          "bdata": "AAAAAAAA8D8AAAAAAAAUQAAAAAAAAABAzTt/Zp6gBsDf+ktNADK1vA==",
          "dtype": "f8",
          "shape": "1, 5"
         },
         "hovertemplate": "color=2<br>t-SNE Component 1=%{x}<br>t-SNE Component 2=%{y}<br>feature1=%{customdata[0]}<br>feature2=%{customdata[1]}<br>cluster=%{customdata[2]}<br>pca1=%{customdata[3]}<br>pca2=%{customdata[4]}<extra></extra>",
         "legendgroup": "2",
         "marker": {
          "color": "#636efa",
          "symbol": "circle"
         },
         "mode": "markers",
         "name": "2",
         "orientation": "v",
         "showlegend": true,
         "type": "scatter",
         "x": {
          "bdata": "moG4wQ==",
          "dtype": "f4"
         },
         "xaxis": "x",
         "y": {
          "bdata": "XDmBwg==",
          "dtype": "f4"
         },
         "yaxis": "y"
        },
        {
         "customdata": {
          "bdata": "AAAAAAAAAEAAAAAAAAAQQAAAAAAAAPA/zDt/Zp6g9r/Wo7oRq0KcPA==",
          "dtype": "f8",
          "shape": "1, 5"
         },
         "hovertemplate": "color=1<br>t-SNE Component 1=%{x}<br>t-SNE Component 2=%{y}<br>feature1=%{customdata[0]}<br>feature2=%{customdata[1]}<br>cluster=%{customdata[2]}<br>pca1=%{customdata[3]}<br>pca2=%{customdata[4]}<extra></extra>",
         "legendgroup": "1",
         "marker": {
          "color": "#EF553B",
          "symbol": "circle"
         },
         "mode": "markers",
         "name": "1",
         "orientation": "v",
         "showlegend": true,
         "type": "scatter",
         "x": {
          "bdata": "ZHhxwQ==",
          "dtype": "f4"
         },
         "xaxis": "x",
         "y": {
          "bdata": "bxdAQg==",
          "dtype": "f4"
         },
         "yaxis": "y"
        },
        {
         "customdata": {
          "bdata": "AAAAAAAACEAAAAAAAAAIQAAAAAAAAAAAAAAAAAAAAAAAAAAAAAAAgAAAAAAAABBAAAAAAAAAAEAAAAAAAAAAAMw7f2aeoPY/1KO6EatCnLwAAAAAAAAUQAAAAAAAAPA/AAAAAAAAAADMO39mnqAGQNSjuhGrQqy8",
          "dtype": "f8",
          "shape": "3, 5"
         },
         "hovertemplate": "color=0<br>t-SNE Component 1=%{x}<br>t-SNE Component 2=%{y}<br>feature1=%{customdata[0]}<br>feature2=%{customdata[1]}<br>cluster=%{customdata[2]}<br>pca1=%{customdata[3]}<br>pca2=%{customdata[4]}<extra></extra>",
         "legendgroup": "0",
         "marker": {
          "color": "#00cc96",
          "symbol": "circle"
         },
         "mode": "markers",
         "name": "0",
         "orientation": "v",
         "showlegend": true,
         "type": "scatter",
         "x": {
          "bdata": "XZFlQvpnikIS3KbC",
          "dtype": "f4"
         },
         "xaxis": "x",
         "y": {
          "bdata": "DJcewi5JO0IQAsy/",
          "dtype": "f4"
         },
         "yaxis": "y"
        }
       ],
       "layout": {
        "legend": {
         "title": {
          "text": "color"
         },
         "tracegroupgap": 0
        },
        "template": {
         "data": {
          "bar": [
           {
            "error_x": {
             "color": "#2a3f5f"
            },
            "error_y": {
             "color": "#2a3f5f"
            },
            "marker": {
             "line": {
              "color": "#E5ECF6",
              "width": 0.5
             },
             "pattern": {
              "fillmode": "overlay",
              "size": 10,
              "solidity": 0.2
             }
            },
            "type": "bar"
           }
          ],
          "barpolar": [
           {
            "marker": {
             "line": {
              "color": "#E5ECF6",
              "width": 0.5
             },
             "pattern": {
              "fillmode": "overlay",
              "size": 10,
              "solidity": 0.2
             }
            },
            "type": "barpolar"
           }
          ],
          "carpet": [
           {
            "aaxis": {
             "endlinecolor": "#2a3f5f",
             "gridcolor": "white",
             "linecolor": "white",
             "minorgridcolor": "white",
             "startlinecolor": "#2a3f5f"
            },
            "baxis": {
             "endlinecolor": "#2a3f5f",
             "gridcolor": "white",
             "linecolor": "white",
             "minorgridcolor": "white",
             "startlinecolor": "#2a3f5f"
            },
            "type": "carpet"
           }
          ],
          "choropleth": [
           {
            "colorbar": {
             "outlinewidth": 0,
             "ticks": ""
            },
            "type": "choropleth"
           }
          ],
          "contour": [
           {
            "colorbar": {
             "outlinewidth": 0,
             "ticks": ""
            },
            "colorscale": [
             [
              0,
              "#0d0887"
             ],
             [
              0.1111111111111111,
              "#46039f"
             ],
             [
              0.2222222222222222,
              "#7201a8"
             ],
             [
              0.3333333333333333,
              "#9c179e"
             ],
             [
              0.4444444444444444,
              "#bd3786"
             ],
             [
              0.5555555555555556,
              "#d8576b"
             ],
             [
              0.6666666666666666,
              "#ed7953"
             ],
             [
              0.7777777777777778,
              "#fb9f3a"
             ],
             [
              0.8888888888888888,
              "#fdca26"
             ],
             [
              1,
              "#f0f921"
             ]
            ],
            "type": "contour"
           }
          ],
          "contourcarpet": [
           {
            "colorbar": {
             "outlinewidth": 0,
             "ticks": ""
            },
            "type": "contourcarpet"
           }
          ],
          "heatmap": [
           {
            "colorbar": {
             "outlinewidth": 0,
             "ticks": ""
            },
            "colorscale": [
             [
              0,
              "#0d0887"
             ],
             [
              0.1111111111111111,
              "#46039f"
             ],
             [
              0.2222222222222222,
              "#7201a8"
             ],
             [
              0.3333333333333333,
              "#9c179e"
             ],
             [
              0.4444444444444444,
              "#bd3786"
             ],
             [
              0.5555555555555556,
              "#d8576b"
             ],
             [
              0.6666666666666666,
              "#ed7953"
             ],
             [
              0.7777777777777778,
              "#fb9f3a"
             ],
             [
              0.8888888888888888,
              "#fdca26"
             ],
             [
              1,
              "#f0f921"
             ]
            ],
            "type": "heatmap"
           }
          ],
          "histogram": [
           {
            "marker": {
             "pattern": {
              "fillmode": "overlay",
              "size": 10,
              "solidity": 0.2
             }
            },
            "type": "histogram"
           }
          ],
          "histogram2d": [
           {
            "colorbar": {
             "outlinewidth": 0,
             "ticks": ""
            },
            "colorscale": [
             [
              0,
              "#0d0887"
             ],
             [
              0.1111111111111111,
              "#46039f"
             ],
             [
              0.2222222222222222,
              "#7201a8"
             ],
             [
              0.3333333333333333,
              "#9c179e"
             ],
             [
              0.4444444444444444,
              "#bd3786"
             ],
             [
              0.5555555555555556,
              "#d8576b"
             ],
             [
              0.6666666666666666,
              "#ed7953"
             ],
             [
              0.7777777777777778,
              "#fb9f3a"
             ],
             [
              0.8888888888888888,
              "#fdca26"
             ],
             [
              1,
              "#f0f921"
             ]
            ],
            "type": "histogram2d"
           }
          ],
          "histogram2dcontour": [
           {
            "colorbar": {
             "outlinewidth": 0,
             "ticks": ""
            },
            "colorscale": [
             [
              0,
              "#0d0887"
             ],
             [
              0.1111111111111111,
              "#46039f"
             ],
             [
              0.2222222222222222,
              "#7201a8"
             ],
             [
              0.3333333333333333,
              "#9c179e"
             ],
             [
              0.4444444444444444,
              "#bd3786"
             ],
             [
              0.5555555555555556,
              "#d8576b"
             ],
             [
              0.6666666666666666,
              "#ed7953"
             ],
             [
              0.7777777777777778,
              "#fb9f3a"
             ],
             [
              0.8888888888888888,
              "#fdca26"
             ],
             [
              1,
              "#f0f921"
             ]
            ],
            "type": "histogram2dcontour"
           }
          ],
          "mesh3d": [
           {
            "colorbar": {
             "outlinewidth": 0,
             "ticks": ""
            },
            "type": "mesh3d"
           }
          ],
          "parcoords": [
           {
            "line": {
             "colorbar": {
              "outlinewidth": 0,
              "ticks": ""
             }
            },
            "type": "parcoords"
           }
          ],
          "pie": [
           {
            "automargin": true,
            "type": "pie"
           }
          ],
          "scatter": [
           {
            "fillpattern": {
             "fillmode": "overlay",
             "size": 10,
             "solidity": 0.2
            },
            "type": "scatter"
           }
          ],
          "scatter3d": [
           {
            "line": {
             "colorbar": {
              "outlinewidth": 0,
              "ticks": ""
             }
            },
            "marker": {
             "colorbar": {
              "outlinewidth": 0,
              "ticks": ""
             }
            },
            "type": "scatter3d"
           }
          ],
          "scattercarpet": [
           {
            "marker": {
             "colorbar": {
              "outlinewidth": 0,
              "ticks": ""
             }
            },
            "type": "scattercarpet"
           }
          ],
          "scattergeo": [
           {
            "marker": {
             "colorbar": {
              "outlinewidth": 0,
              "ticks": ""
             }
            },
            "type": "scattergeo"
           }
          ],
          "scattergl": [
           {
            "marker": {
             "colorbar": {
              "outlinewidth": 0,
              "ticks": ""
             }
            },
            "type": "scattergl"
           }
          ],
          "scattermap": [
           {
            "marker": {
             "colorbar": {
              "outlinewidth": 0,
              "ticks": ""
             }
            },
            "type": "scattermap"
           }
          ],
          "scattermapbox": [
           {
            "marker": {
             "colorbar": {
              "outlinewidth": 0,
              "ticks": ""
             }
            },
            "type": "scattermapbox"
           }
          ],
          "scatterpolar": [
           {
            "marker": {
             "colorbar": {
              "outlinewidth": 0,
              "ticks": ""
             }
            },
            "type": "scatterpolar"
           }
          ],
          "scatterpolargl": [
           {
            "marker": {
             "colorbar": {
              "outlinewidth": 0,
              "ticks": ""
             }
            },
            "type": "scatterpolargl"
           }
          ],
          "scatterternary": [
           {
            "marker": {
             "colorbar": {
              "outlinewidth": 0,
              "ticks": ""
             }
            },
            "type": "scatterternary"
           }
          ],
          "surface": [
           {
            "colorbar": {
             "outlinewidth": 0,
             "ticks": ""
            },
            "colorscale": [
             [
              0,
              "#0d0887"
             ],
             [
              0.1111111111111111,
              "#46039f"
             ],
             [
              0.2222222222222222,
              "#7201a8"
             ],
             [
              0.3333333333333333,
              "#9c179e"
             ],
             [
              0.4444444444444444,
              "#bd3786"
             ],
             [
              0.5555555555555556,
              "#d8576b"
             ],
             [
              0.6666666666666666,
              "#ed7953"
             ],
             [
              0.7777777777777778,
              "#fb9f3a"
             ],
             [
              0.8888888888888888,
              "#fdca26"
             ],
             [
              1,
              "#f0f921"
             ]
            ],
            "type": "surface"
           }
          ],
          "table": [
           {
            "cells": {
             "fill": {
              "color": "#EBF0F8"
             },
             "line": {
              "color": "white"
             }
            },
            "header": {
             "fill": {
              "color": "#C8D4E3"
             },
             "line": {
              "color": "white"
             }
            },
            "type": "table"
           }
          ]
         },
         "layout": {
          "annotationdefaults": {
           "arrowcolor": "#2a3f5f",
           "arrowhead": 0,
           "arrowwidth": 1
          },
          "autotypenumbers": "strict",
          "coloraxis": {
           "colorbar": {
            "outlinewidth": 0,
            "ticks": ""
           }
          },
          "colorscale": {
           "diverging": [
            [
             0,
             "#8e0152"
            ],
            [
             0.1,
             "#c51b7d"
            ],
            [
             0.2,
             "#de77ae"
            ],
            [
             0.3,
             "#f1b6da"
            ],
            [
             0.4,
             "#fde0ef"
            ],
            [
             0.5,
             "#f7f7f7"
            ],
            [
             0.6,
             "#e6f5d0"
            ],
            [
             0.7,
             "#b8e186"
            ],
            [
             0.8,
             "#7fbc41"
            ],
            [
             0.9,
             "#4d9221"
            ],
            [
             1,
             "#276419"
            ]
           ],
           "sequential": [
            [
             0,
             "#0d0887"
            ],
            [
             0.1111111111111111,
             "#46039f"
            ],
            [
             0.2222222222222222,
             "#7201a8"
            ],
            [
             0.3333333333333333,
             "#9c179e"
            ],
            [
             0.4444444444444444,
             "#bd3786"
            ],
            [
             0.5555555555555556,
             "#d8576b"
            ],
            [
             0.6666666666666666,
             "#ed7953"
            ],
            [
             0.7777777777777778,
             "#fb9f3a"
            ],
            [
             0.8888888888888888,
             "#fdca26"
            ],
            [
             1,
             "#f0f921"
            ]
           ],
           "sequentialminus": [
            [
             0,
             "#0d0887"
            ],
            [
             0.1111111111111111,
             "#46039f"
            ],
            [
             0.2222222222222222,
             "#7201a8"
            ],
            [
             0.3333333333333333,
             "#9c179e"
            ],
            [
             0.4444444444444444,
             "#bd3786"
            ],
            [
             0.5555555555555556,
             "#d8576b"
            ],
            [
             0.6666666666666666,
             "#ed7953"
            ],
            [
             0.7777777777777778,
             "#fb9f3a"
            ],
            [
             0.8888888888888888,
             "#fdca26"
            ],
            [
             1,
             "#f0f921"
            ]
           ]
          },
          "colorway": [
           "#636efa",
           "#EF553B",
           "#00cc96",
           "#ab63fa",
           "#FFA15A",
           "#19d3f3",
           "#FF6692",
           "#B6E880",
           "#FF97FF",
           "#FECB52"
          ],
          "font": {
           "color": "#2a3f5f"
          },
          "geo": {
           "bgcolor": "white",
           "lakecolor": "white",
           "landcolor": "#E5ECF6",
           "showlakes": true,
           "showland": true,
           "subunitcolor": "white"
          },
          "hoverlabel": {
           "align": "left"
          },
          "hovermode": "closest",
          "mapbox": {
           "style": "light"
          },
          "paper_bgcolor": "white",
          "plot_bgcolor": "#E5ECF6",
          "polar": {
           "angularaxis": {
            "gridcolor": "white",
            "linecolor": "white",
            "ticks": ""
           },
           "bgcolor": "#E5ECF6",
           "radialaxis": {
            "gridcolor": "white",
            "linecolor": "white",
            "ticks": ""
           }
          },
          "scene": {
           "xaxis": {
            "backgroundcolor": "#E5ECF6",
            "gridcolor": "white",
            "gridwidth": 2,
            "linecolor": "white",
            "showbackground": true,
            "ticks": "",
            "zerolinecolor": "white"
           },
           "yaxis": {
            "backgroundcolor": "#E5ECF6",
            "gridcolor": "white",
            "gridwidth": 2,
            "linecolor": "white",
            "showbackground": true,
            "ticks": "",
            "zerolinecolor": "white"
           },
           "zaxis": {
            "backgroundcolor": "#E5ECF6",
            "gridcolor": "white",
            "gridwidth": 2,
            "linecolor": "white",
            "showbackground": true,
            "ticks": "",
            "zerolinecolor": "white"
           }
          },
          "shapedefaults": {
           "line": {
            "color": "#2a3f5f"
           }
          },
          "ternary": {
           "aaxis": {
            "gridcolor": "white",
            "linecolor": "white",
            "ticks": ""
           },
           "baxis": {
            "gridcolor": "white",
            "linecolor": "white",
            "ticks": ""
           },
           "bgcolor": "#E5ECF6",
           "caxis": {
            "gridcolor": "white",
            "linecolor": "white",
            "ticks": ""
           }
          },
          "title": {
           "x": 0.05
          },
          "xaxis": {
           "automargin": true,
           "gridcolor": "white",
           "linecolor": "white",
           "ticks": "",
           "title": {
            "standoff": 15
           },
           "zerolinecolor": "white",
           "zerolinewidth": 2
          },
          "yaxis": {
           "automargin": true,
           "gridcolor": "white",
           "linecolor": "white",
           "ticks": "",
           "title": {
            "standoff": 15
           },
           "zerolinecolor": "white",
           "zerolinewidth": 2
          }
         }
        },
        "title": {
         "text": "Customer Segmentation using t-SNE"
        },
        "xaxis": {
         "anchor": "y",
         "domain": [
          0,
          1
         ],
         "title": {
          "text": "t-SNE Component 1"
         }
        },
        "yaxis": {
         "anchor": "x",
         "domain": [
          0,
          1
         ],
         "title": {
          "text": "t-SNE Component 2"
         }
        }
       }
      }
     },
     "metadata": {},
     "output_type": "display_data"
    }
   ],
   "source": [
    "# Ensure perplexity is less than the number of samples\n",
    "n_samples = len(df)\n",
    "perplexity_value = min(30, n_samples - 1)  # Ensure perplexity is less than n_samples\n",
    "\n",
    "# Step 2: Apply t-SNE\n",
    "tsne = TSNE(n_components=2, perplexity=perplexity_value, random_state=42)\n",
    "tsne_result = tsne.fit_transform(pca_result)\n",
    "\n",
    "# Store the results in DataFrame\n",
    "df['tsne1'], df['tsne2'] = tsne_result[:, 0], tsne_result[:, 1]\n",
    "\n",
    "# Step 3: Plot using Plotly\n",
    "fig = px.scatter(df, x='tsne1', y='tsne2', color=df['cluster'].astype(str),\n",
    "                 title=\"Customer Segmentation using t-SNE\",\n",
    "                 labels={\"tsne1\": \"t-SNE Component 1\", \"tsne2\": \"t-SNE Component 2\"},\n",
    "                 hover_data=df.columns)  # Show additional details on hover\n",
    "\n",
    "fig.show()\n"
   ]
  },
  {
   "cell_type": "code",
   "execution_count": 170,
   "id": "c33c9c78",
   "metadata": {},
   "outputs": [
    {
     "data": {
      "image/png": "[encoded data removed]",
      "text/plain": [
       "<Figure size 1000x800 with 2 Axes>"
      ]
     },
     "metadata": {},
     "output_type": "display_data"
    }
   ],
   "source": [
    "import seaborn as sns\n",
    "import matplotlib.pyplot as plt\n",
    "\n",
    "# Generate and plot the heatmap\n",
    "plt.figure(figsize=(10, 8))\n",
    "sns.heatmap(df.corr(), annot=True, cmap='coolwarm')\n",
    "plt.show()\n"
   ]
  },
  {
   "cell_type": "code",
   "execution_count": null,
   "id": "cb3087de",
   "metadata": {},
   "outputs": [],
   "source": []
  }
 ],
 "metadata": {
  "kernelspec": {
   "display_name": "Python 3",
   "language": "python",
   "name": "python3"
  },
  "language_info": {
   "codemirror_mode": {
    "name": "ipython",
    "version": 3
   },
   "file_extension": ".py",
   "mimetype": "text/x-python",
   "name": "python",
   "nbconvert_exporter": "python",
   "pygments_lexer": "ipython3",
   "version": "3.13.2"
  }
 },
 "nbformat": 4,
 "nbformat_minor": 5
}
